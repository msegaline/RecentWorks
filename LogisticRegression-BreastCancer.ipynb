{
 "cells": [
  {
   "cell_type": "markdown",
   "metadata": {},
   "source": [
    "# Logistic Regression - Predict Brease Cancer\n",
    "* Chapter 7 example simplified\n",
    "* Most of code has been revised. "
   ]
  },
  {
   "cell_type": "markdown",
   "metadata": {},
   "source": [
    "## Problem Understanding\n",
    "* What factors contribute to breast cancer?\n",
    "* What does a predictive model look like? "
   ]
  },
  {
   "cell_type": "code",
   "execution_count": 3,
   "metadata": {},
   "outputs": [],
   "source": [
    "# --- Import Libraries ---\n",
    "%matplotlib inline\n",
    "import pandas as pd\n",
    "import numpy as np\n",
    "import matplotlib.pyplot as plt\n",
    "import seaborn as sns"
   ]
  },
  {
   "cell_type": "markdown",
   "metadata": {},
   "source": [
    "## Acquire and review the data\n",
    "* The SKLEARN.DATASETS class has built-in datasets\n",
    "* One dataset is the Wisconsin Breast Cancer\n",
    "* The datatype of dataset in sklearn is **Bunch**, which has its special structure:\n",
    "    * data: data of IV's or features, a NumPy array. \n",
    "    * target: data of DV's or outcomes\n",
    "    * feature_names: independent variable names (column names)\n",
    "    * target_names: dependent variable names\n",
    "* Placing data in Bunch to a Pandas DataFrame might make our jobs easier. \n",
    "\n",
    "## Breast Cancer Wisconsin Dataset\n",
    "\n",
    "**Note:**\n",
    "* Binary classification\n",
    "* Source: https://archive.ocs.ui.edu/ml/datasets/Breast+Cancer+Wisconsin+(Diagnostic)"
   ]
  },
  {
   "cell_type": "code",
   "execution_count": 4,
   "metadata": {},
   "outputs": [],
   "source": [
    "# --- Load sklearn datasets --\n",
    "from sklearn.datasets import load_breast_cancer"
   ]
  },
  {
   "cell_type": "code",
   "execution_count": 5,
   "metadata": {},
   "outputs": [],
   "source": [
    "# -- Load predefined dataset, breast_cancer --\n",
    "\n",
    "cancer = load_breast_cancer()"
   ]
  },
  {
   "cell_type": "code",
   "execution_count": 6,
   "metadata": {},
   "outputs": [
    {
     "name": "stdout",
     "output_type": "stream",
     "text": [
      ".. _breast_cancer_dataset:\n",
      "\n",
      "Breast cancer wisconsin (diagnostic) dataset\n",
      "--------------------------------------------\n",
      "\n",
      "**Data Set Characteristics:**\n",
      "\n",
      "    :Number of Instances: 569\n",
      "\n",
      "    :Number of Attributes: 30 numeric, predictive attributes and the class\n",
      "\n",
      "    :Attribute Information:\n",
      "        - radius (mean of distances from center to points on the perimeter)\n",
      "        - texture (standard deviation of gray-scale values)\n",
      "        - perimeter\n",
      "        - area\n",
      "        - smoothness (local variation in radius lengths)\n",
      "        - compactness (perimeter^2 / area - 1.0)\n",
      "        - concavity (severity of concave portions of the contour)\n",
      "        - concave points (number of concave portions of the contour)\n",
      "        - symmetry \n",
      "        - fractal dimension (\"coastline approximation\" - 1)\n",
      "\n",
      "        The mean, standard error, and \"worst\" or largest (mean of the three\n",
      "        largest values) of these features were computed for each image,\n",
      "        resulting in 30 features.  For instance, field 3 is Mean Radius, field\n",
      "        13 is Radius SE, field 23 is Worst Radius.\n",
      "\n",
      "        - class:\n",
      "                - WDBC-Malignant\n",
      "                - WDBC-Benign\n",
      "\n",
      "    :Summary Statistics:\n",
      "\n",
      "    ===================================== ====== ======\n",
      "                                           Min    Max\n",
      "    ===================================== ====== ======\n",
      "    radius (mean):                        6.981  28.11\n",
      "    texture (mean):                       9.71   39.28\n",
      "    perimeter (mean):                     43.79  188.5\n",
      "    area (mean):                          143.5  2501.0\n",
      "    smoothness (mean):                    0.053  0.163\n",
      "    compactness (mean):                   0.019  0.345\n",
      "    concavity (mean):                     0.0    0.427\n",
      "    concave points (mean):                0.0    0.201\n",
      "    symmetry (mean):                      0.106  0.304\n",
      "    fractal dimension (mean):             0.05   0.097\n",
      "    radius (standard error):              0.112  2.873\n",
      "    texture (standard error):             0.36   4.885\n",
      "    perimeter (standard error):           0.757  21.98\n",
      "    area (standard error):                6.802  542.2\n",
      "    smoothness (standard error):          0.002  0.031\n",
      "    compactness (standard error):         0.002  0.135\n",
      "    concavity (standard error):           0.0    0.396\n",
      "    concave points (standard error):      0.0    0.053\n",
      "    symmetry (standard error):            0.008  0.079\n",
      "    fractal dimension (standard error):   0.001  0.03\n",
      "    radius (worst):                       7.93   36.04\n",
      "    texture (worst):                      12.02  49.54\n",
      "    perimeter (worst):                    50.41  251.2\n",
      "    area (worst):                         185.2  4254.0\n",
      "    smoothness (worst):                   0.071  0.223\n",
      "    compactness (worst):                  0.027  1.058\n",
      "    concavity (worst):                    0.0    1.252\n",
      "    concave points (worst):               0.0    0.291\n",
      "    symmetry (worst):                     0.156  0.664\n",
      "    fractal dimension (worst):            0.055  0.208\n",
      "    ===================================== ====== ======\n",
      "\n",
      "    :Missing Attribute Values: None\n",
      "\n",
      "    :Class Distribution: 212 - Malignant, 357 - Benign\n",
      "\n",
      "    :Creator:  Dr. William H. Wolberg, W. Nick Street, Olvi L. Mangasarian\n",
      "\n",
      "    :Donor: Nick Street\n",
      "\n",
      "    :Date: November, 1995\n",
      "\n",
      "This is a copy of UCI ML Breast Cancer Wisconsin (Diagnostic) datasets.\n",
      "https://goo.gl/U2Uwz2\n",
      "\n",
      "Features are computed from a digitized image of a fine needle\n",
      "aspirate (FNA) of a breast mass.  They describe\n",
      "characteristics of the cell nuclei present in the image.\n",
      "\n",
      "Separating plane described above was obtained using\n",
      "Multisurface Method-Tree (MSM-T) [K. P. Bennett, \"Decision Tree\n",
      "Construction Via Linear Programming.\" Proceedings of the 4th\n",
      "Midwest Artificial Intelligence and Cognitive Science Society,\n",
      "pp. 97-101, 1992], a classification method which uses linear\n",
      "programming to construct a decision tree.  Relevant features\n",
      "were selected using an exhaustive search in the space of 1-4\n",
      "features and 1-3 separating planes.\n",
      "\n",
      "The actual linear program used to obtain the separating plane\n",
      "in the 3-dimensional space is that described in:\n",
      "[K. P. Bennett and O. L. Mangasarian: \"Robust Linear\n",
      "Programming Discrimination of Two Linearly Inseparable Sets\",\n",
      "Optimization Methods and Software 1, 1992, 23-34].\n",
      "\n",
      "This database is also available through the UW CS ftp server:\n",
      "\n",
      "ftp ftp.cs.wisc.edu\n",
      "cd math-prog/cpo-dataset/machine-learn/WDBC/\n",
      "\n",
      ".. topic:: References\n",
      "\n",
      "   - W.N. Street, W.H. Wolberg and O.L. Mangasarian. Nuclear feature extraction \n",
      "     for breast tumor diagnosis. IS&T/SPIE 1993 International Symposium on \n",
      "     Electronic Imaging: Science and Technology, volume 1905, pages 861-870,\n",
      "     San Jose, CA, 1993.\n",
      "   - O.L. Mangasarian, W.N. Street and W.H. Wolberg. Breast cancer diagnosis and \n",
      "     prognosis via linear programming. Operations Research, 43(4), pages 570-577, \n",
      "     July-August 1995.\n",
      "   - W.H. Wolberg, W.N. Street, and O.L. Mangasarian. Machine learning techniques\n",
      "     to diagnose breast cancer from fine-needle aspirates. Cancer Letters 77 (1994) \n",
      "     163-171.\n"
     ]
    }
   ],
   "source": [
    "# -- What is in a Bunch? --\n",
    "print(cancer.DESCR)"
   ]
  },
  {
   "cell_type": "markdown",
   "metadata": {},
   "source": [
    "### How does the data in a bunch look like? "
   ]
  },
  {
   "cell_type": "code",
   "execution_count": 7,
   "metadata": {},
   "outputs": [
    {
     "name": "stdout",
     "output_type": "stream",
     "text": [
      "Data type:  <class 'numpy.ndarray'>\n",
      "Shape:  (569, 30)\n",
      "Dimension:  2\n"
     ]
    }
   ],
   "source": [
    "# -- What is the data structure? --\n",
    "print(\"Data type: \",type(cancer.data))\n",
    "print(\"Shape: \",cancer.data.shape) ## Which shows that the dataset has 569 rows and each row has 30 columns\n",
    "print(\"Dimension: \",cancer.data.ndim)"
   ]
  },
  {
   "cell_type": "code",
   "execution_count": 8,
   "metadata": {},
   "outputs": [
    {
     "name": "stdout",
     "output_type": "stream",
     "text": [
      "17.99\n",
      "[[17.99 10.38]\n",
      " [20.57 17.77]]\n"
     ]
    }
   ],
   "source": [
    "# -- What is the element (first row and first column)? --\n",
    "print(cancer.data[0,0])\n",
    "# -- What are the data of the first two rows and first two columns? --\n",
    "print(cancer.data[:2,:2])"
   ]
  },
  {
   "cell_type": "code",
   "execution_count": 9,
   "metadata": {},
   "outputs": [
    {
     "name": "stdout",
     "output_type": "stream",
     "text": [
      "[1.799e+01 1.038e+01 1.228e+02 1.001e+03 1.184e-01 2.776e-01 3.001e-01\n",
      " 1.471e-01 2.419e-01 7.871e-02 1.095e+00 9.053e-01 8.589e+00 1.534e+02\n",
      " 6.399e-03 4.904e-02 5.373e-02 1.587e-02 3.003e-02 6.193e-03 2.538e+01\n",
      " 1.733e+01 1.846e+02 2.019e+03 1.622e-01 6.656e-01 7.119e-01 2.654e-01\n",
      " 4.601e-01 1.189e-01]\n"
     ]
    },
    {
     "data": {
      "text/plain": [
       "array([17.99 , 20.57 , 19.69 , 11.42 , 20.29 , 12.45 , 18.25 , 13.71 ,\n",
       "       13.   , 12.46 , 16.02 , 15.78 , 19.17 , 15.85 , 13.73 , 14.54 ,\n",
       "       14.68 , 16.13 , 19.81 , 13.54 , 13.08 ,  9.504, 15.34 , 21.16 ,\n",
       "       16.65 , 17.14 , 14.58 , 18.61 , 15.3  , 17.57 , 18.63 , 11.84 ,\n",
       "       17.02 , 19.27 , 16.13 , 16.74 , 14.25 , 13.03 , 14.99 , 13.48 ,\n",
       "       13.44 , 10.95 , 19.07 , 13.28 , 13.17 , 18.65 ,  8.196, 13.17 ,\n",
       "       12.05 , 13.49 , 11.76 , 13.64 , 11.94 , 18.22 , 15.1  , 11.52 ,\n",
       "       19.21 , 14.71 , 13.05 ,  8.618, 10.17 ,  8.598, 14.25 ,  9.173,\n",
       "       12.68 , 14.78 ,  9.465, 11.31 ,  9.029, 12.78 , 18.94 ,  8.888,\n",
       "       17.2  , 13.8  , 12.31 , 16.07 , 13.53 , 18.05 , 20.18 , 12.86 ,\n",
       "       11.45 , 13.34 , 25.22 , 19.1  , 12.   , 18.46 , 14.48 , 19.02 ,\n",
       "       12.36 , 14.64 , 14.62 , 15.37 , 13.27 , 13.45 , 15.06 , 20.26 ,\n",
       "       12.18 ,  9.787, 11.6  , 14.42 , 13.61 ,  6.981, 12.18 ,  9.876,\n",
       "       10.49 , 13.11 , 11.64 , 12.36 , 22.27 , 11.34 ,  9.777, 12.63 ,\n",
       "       14.26 , 10.51 ,  8.726, 11.93 ,  8.95 , 14.87 , 15.78 , 17.95 ,\n",
       "       11.41 , 18.66 , 24.25 , 14.5  , 13.37 , 13.85 , 13.61 , 19.   ,\n",
       "       15.1  , 19.79 , 12.19 , 15.46 , 16.16 , 15.71 , 18.45 , 12.77 ,\n",
       "       11.71 , 11.43 , 14.95 , 11.28 ,  9.738, 16.11 , 11.43 , 12.9  ,\n",
       "       10.75 , 11.9  , 11.8  , 14.95 , 14.44 , 13.74 , 13.   ,  8.219,\n",
       "        9.731, 11.15 , 13.15 , 12.25 , 17.68 , 16.84 , 12.06 , 10.9  ,\n",
       "       11.75 , 19.19 , 19.59 , 12.34 , 23.27 , 14.97 , 10.8  , 16.78 ,\n",
       "       17.47 , 14.97 , 12.32 , 13.43 , 15.46 , 11.08 , 10.66 ,  8.671,\n",
       "        9.904, 16.46 , 13.01 , 12.81 , 27.22 , 21.09 , 15.7  , 11.41 ,\n",
       "       15.28 , 10.08 , 18.31 , 11.71 , 11.81 , 12.3  , 14.22 , 12.77 ,\n",
       "        9.72 , 12.34 , 14.86 , 12.91 , 13.77 , 18.08 , 19.18 , 14.45 ,\n",
       "       12.23 , 17.54 , 23.29 , 13.81 , 12.47 , 15.12 ,  9.876, 17.01 ,\n",
       "       13.11 , 15.27 , 20.58 , 11.84 , 28.11 , 17.42 , 14.19 , 13.86 ,\n",
       "       11.89 , 10.2  , 19.8  , 19.53 , 13.65 , 13.56 , 10.18 , 15.75 ,\n",
       "       13.27 , 14.34 , 10.44 , 15.   , 12.62 , 12.83 , 17.05 , 11.32 ,\n",
       "       11.22 , 20.51 ,  9.567, 14.03 , 23.21 , 20.48 , 14.22 , 17.46 ,\n",
       "       13.64 , 12.42 , 11.3  , 13.75 , 19.4  , 10.48 , 13.2  , 12.89 ,\n",
       "       10.65 , 11.52 , 20.94 , 11.5  , 19.73 , 17.3  , 19.45 , 13.96 ,\n",
       "       19.55 , 15.32 , 15.66 , 15.53 , 20.31 , 17.35 , 17.29 , 15.61 ,\n",
       "       17.19 , 20.73 , 10.6  , 13.59 , 12.87 , 10.71 , 14.29 , 11.29 ,\n",
       "       21.75 ,  9.742, 17.93 , 11.89 , 11.33 , 18.81 , 13.59 , 13.85 ,\n",
       "       19.16 , 11.74 , 19.4  , 16.24 , 12.89 , 12.58 , 11.94 , 12.89 ,\n",
       "       11.26 , 11.37 , 14.41 , 14.96 , 12.95 , 11.85 , 12.72 , 13.77 ,\n",
       "       10.91 , 11.76 , 14.26 , 10.51 , 19.53 , 12.46 , 20.09 , 10.49 ,\n",
       "       11.46 , 11.6  , 13.2  ,  9.   , 13.5  , 13.05 , 11.7  , 14.61 ,\n",
       "       12.76 , 11.54 ,  8.597, 12.49 , 12.18 , 18.22 ,  9.042, 12.43 ,\n",
       "       10.25 , 20.16 , 12.86 , 20.34 , 12.2  , 12.67 , 14.11 , 12.03 ,\n",
       "       16.27 , 16.26 , 16.03 , 12.98 , 11.22 , 11.25 , 12.3  , 17.06 ,\n",
       "       12.99 , 18.77 , 10.05 , 23.51 , 14.42 ,  9.606, 11.06 , 19.68 ,\n",
       "       11.71 , 10.26 , 12.06 , 14.76 , 11.47 , 11.95 , 11.66 , 15.75 ,\n",
       "       25.73 , 15.08 , 11.14 , 12.56 , 13.05 , 13.87 ,  8.878,  9.436,\n",
       "       12.54 , 13.3  , 12.76 , 16.5  , 13.4  , 20.44 , 20.2  , 12.21 ,\n",
       "       21.71 , 22.01 , 16.35 , 15.19 , 21.37 , 20.64 , 13.69 , 16.17 ,\n",
       "       10.57 , 13.46 , 13.66 , 11.08 , 11.27 , 11.04 , 12.05 , 12.39 ,\n",
       "       13.28 , 14.6  , 12.21 , 13.88 , 11.27 , 19.55 , 10.26 ,  8.734,\n",
       "       15.49 , 21.61 , 12.1  , 14.06 , 13.51 , 12.8  , 11.06 , 11.8  ,\n",
       "       17.91 , 11.93 , 12.96 , 12.94 , 12.34 , 10.94 , 16.14 , 12.85 ,\n",
       "       17.99 , 12.27 , 11.36 , 11.04 ,  9.397, 14.99 , 15.13 , 11.89 ,\n",
       "        9.405, 15.5  , 12.7  , 11.16 , 11.57 , 14.69 , 11.61 , 13.66 ,\n",
       "        9.742, 10.03 , 10.48 , 10.8  , 11.13 , 12.72 , 14.9  , 12.4  ,\n",
       "       20.18 , 18.82 , 14.86 , 13.98 , 12.87 , 14.04 , 13.85 , 14.02 ,\n",
       "       10.97 , 17.27 , 13.78 , 10.57 , 18.03 , 11.99 , 17.75 , 14.8  ,\n",
       "       14.53 , 21.1  , 11.87 , 19.59 , 12.   , 14.53 , 12.62 , 13.38 ,\n",
       "       11.63 , 13.21 , 13.   ,  9.755, 17.08 , 27.42 , 14.4  , 11.6  ,\n",
       "       13.17 , 13.24 , 13.14 ,  9.668, 17.6  , 11.62 ,  9.667, 12.04 ,\n",
       "       14.92 , 12.27 , 10.88 , 12.83 , 14.2  , 13.9  , 11.49 , 16.25 ,\n",
       "       12.16 , 13.9  , 13.47 , 13.7  , 15.73 , 12.45 , 14.64 , 19.44 ,\n",
       "       11.68 , 16.69 , 12.25 , 17.85 , 18.01 , 12.46 , 13.16 , 14.87 ,\n",
       "       12.65 , 12.47 , 18.49 , 20.59 , 15.04 , 13.82 , 12.54 , 23.09 ,\n",
       "        9.268,  9.676, 12.22 , 11.06 , 16.3  , 15.46 , 11.74 , 14.81 ,\n",
       "       13.4  , 14.58 , 15.05 , 11.34 , 18.31 , 19.89 , 12.88 , 12.75 ,\n",
       "        9.295, 24.63 , 11.26 , 13.71 ,  9.847,  8.571, 13.46 , 12.34 ,\n",
       "       13.94 , 12.07 , 11.75 , 11.67 , 13.68 , 20.47 , 10.96 , 20.55 ,\n",
       "       14.27 , 11.69 ,  7.729,  7.691, 11.54 , 14.47 , 14.74 , 13.21 ,\n",
       "       13.87 , 13.62 , 10.32 , 10.26 ,  9.683, 10.82 , 10.86 , 11.13 ,\n",
       "       12.77 ,  9.333, 12.88 , 10.29 , 10.16 ,  9.423, 14.59 , 11.51 ,\n",
       "       14.05 , 11.2  , 15.22 , 20.92 , 21.56 , 20.13 , 16.6  , 20.6  ,\n",
       "        7.76 ])"
      ]
     },
     "execution_count": 9,
     "metadata": {},
     "output_type": "execute_result"
    }
   ],
   "source": [
    "# -- What are the data of the first row? --\n",
    "print(cancer.data[0,:])\n",
    "# -- What are the data of the first column? --\n",
    "cancer.data[:,0]"
   ]
  },
  {
   "cell_type": "code",
   "execution_count": 67,
   "metadata": {},
   "outputs": [
    {
     "data": {
      "text/plain": [
       "array(['mean radius', 'mean texture', 'mean perimeter', 'mean area',\n",
       "       'mean smoothness', 'mean compactness', 'mean concavity',\n",
       "       'mean concave points', 'mean symmetry', 'mean fractal dimension',\n",
       "       'radius error', 'texture error', 'perimeter error', 'area error',\n",
       "       'smoothness error', 'compactness error', 'concavity error',\n",
       "       'concave points error', 'symmetry error',\n",
       "       'fractal dimension error', 'worst radius', 'worst texture',\n",
       "       'worst perimeter', 'worst area', 'worst smoothness',\n",
       "       'worst compactness', 'worst concavity', 'worst concave points',\n",
       "       'worst symmetry', 'worst fractal dimension'], dtype='<U23')"
      ]
     },
     "execution_count": 67,
     "metadata": {},
     "output_type": "execute_result"
    }
   ],
   "source": [
    "# -- independent variables (features) names --\n",
    "cancer.feature_names"
   ]
  },
  {
   "cell_type": "code",
   "execution_count": 10,
   "metadata": {},
   "outputs": [
    {
     "data": {
      "text/plain": [
       "array([0, 0, 0, 0, 0, 0, 0, 0, 0, 0, 0, 0, 0, 0, 0, 0, 0, 0, 0, 1, 1, 1,\n",
       "       0, 0, 0, 0, 0, 0, 0, 0, 0, 0, 0, 0, 0, 0, 0, 1, 0, 0, 0, 0, 0, 0,\n",
       "       0, 0, 1, 0, 1, 1, 1, 1, 1, 0, 0, 1, 0, 0, 1, 1, 1, 1, 0, 1, 0, 0,\n",
       "       1, 1, 1, 1, 0, 1, 0, 0, 1, 0, 1, 0, 0, 1, 1, 1, 0, 0, 1, 0, 0, 0,\n",
       "       1, 1, 1, 0, 1, 1, 0, 0, 1, 1, 1, 0])"
      ]
     },
     "execution_count": 10,
     "metadata": {},
     "output_type": "execute_result"
    }
   ],
   "source": [
    "# -- target data, which is the data of dependent variable using statistic langauge. --\n",
    "cancer.target[:100]"
   ]
  },
  {
   "cell_type": "markdown",
   "metadata": {},
   "source": [
    "### Put the data in to a DataFrame"
   ]
  },
  {
   "cell_type": "code",
   "execution_count": 11,
   "metadata": {},
   "outputs": [],
   "source": [
    "# -- Here, only ten features are used in the project --\n",
    "cancer_df = pd.DataFrame(cancer.data[:,0:10],columns=cancer.feature_names[0:10])\n",
    "\n",
    "# -- As you may recall, cancer.data[:,0:10] means all rows, first 10 columns from column 0 to column 9. "
   ]
  },
  {
   "cell_type": "code",
   "execution_count": 12,
   "metadata": {},
   "outputs": [],
   "source": [
    "# -- add the data of target to the dataframe and give it a column name, diagonsis --\n",
    "# -- 0: malignant --\n",
    "# -- 1: benign --\n",
    "cancer_df['diagnosis'] = cancer.target"
   ]
  },
  {
   "cell_type": "code",
   "execution_count": 13,
   "metadata": {},
   "outputs": [],
   "source": [
    "# -- add labels of diagonsis to the dataframe --\n",
    "# -- 0: Malignant --\n",
    "# -- 1: Benign --\n",
    "cancer_df['outcome'] = cancer_df['diagnosis'].apply(lambda x: 'Benign' if(x==1) else 'Malignant')"
   ]
  },
  {
   "cell_type": "code",
   "execution_count": 14,
   "metadata": {},
   "outputs": [
    {
     "data": {
      "text/plain": [
       "(569, 12)"
      ]
     },
     "execution_count": 14,
     "metadata": {},
     "output_type": "execute_result"
    }
   ],
   "source": [
    "# -- Dataframe shape --\n",
    "cancer_df.shape"
   ]
  },
  {
   "cell_type": "code",
   "execution_count": 15,
   "metadata": {},
   "outputs": [
    {
     "data": {
      "text/html": [
       "<div>\n",
       "<style scoped>\n",
       "    .dataframe tbody tr th:only-of-type {\n",
       "        vertical-align: middle;\n",
       "    }\n",
       "\n",
       "    .dataframe tbody tr th {\n",
       "        vertical-align: top;\n",
       "    }\n",
       "\n",
       "    .dataframe thead th {\n",
       "        text-align: right;\n",
       "    }\n",
       "</style>\n",
       "<table border=\"1\" class=\"dataframe\">\n",
       "  <thead>\n",
       "    <tr style=\"text-align: right;\">\n",
       "      <th></th>\n",
       "      <th>mean radius</th>\n",
       "      <th>mean texture</th>\n",
       "      <th>mean perimeter</th>\n",
       "      <th>mean area</th>\n",
       "      <th>mean smoothness</th>\n",
       "      <th>mean compactness</th>\n",
       "      <th>mean concavity</th>\n",
       "      <th>mean concave points</th>\n",
       "      <th>mean symmetry</th>\n",
       "      <th>mean fractal dimension</th>\n",
       "      <th>diagnosis</th>\n",
       "      <th>outcome</th>\n",
       "    </tr>\n",
       "  </thead>\n",
       "  <tbody>\n",
       "    <tr>\n",
       "      <th>0</th>\n",
       "      <td>17.99</td>\n",
       "      <td>10.38</td>\n",
       "      <td>122.80</td>\n",
       "      <td>1001.0</td>\n",
       "      <td>0.11840</td>\n",
       "      <td>0.27760</td>\n",
       "      <td>0.3001</td>\n",
       "      <td>0.14710</td>\n",
       "      <td>0.2419</td>\n",
       "      <td>0.07871</td>\n",
       "      <td>0</td>\n",
       "      <td>Malignant</td>\n",
       "    </tr>\n",
       "    <tr>\n",
       "      <th>1</th>\n",
       "      <td>20.57</td>\n",
       "      <td>17.77</td>\n",
       "      <td>132.90</td>\n",
       "      <td>1326.0</td>\n",
       "      <td>0.08474</td>\n",
       "      <td>0.07864</td>\n",
       "      <td>0.0869</td>\n",
       "      <td>0.07017</td>\n",
       "      <td>0.1812</td>\n",
       "      <td>0.05667</td>\n",
       "      <td>0</td>\n",
       "      <td>Malignant</td>\n",
       "    </tr>\n",
       "    <tr>\n",
       "      <th>2</th>\n",
       "      <td>19.69</td>\n",
       "      <td>21.25</td>\n",
       "      <td>130.00</td>\n",
       "      <td>1203.0</td>\n",
       "      <td>0.10960</td>\n",
       "      <td>0.15990</td>\n",
       "      <td>0.1974</td>\n",
       "      <td>0.12790</td>\n",
       "      <td>0.2069</td>\n",
       "      <td>0.05999</td>\n",
       "      <td>0</td>\n",
       "      <td>Malignant</td>\n",
       "    </tr>\n",
       "    <tr>\n",
       "      <th>3</th>\n",
       "      <td>11.42</td>\n",
       "      <td>20.38</td>\n",
       "      <td>77.58</td>\n",
       "      <td>386.1</td>\n",
       "      <td>0.14250</td>\n",
       "      <td>0.28390</td>\n",
       "      <td>0.2414</td>\n",
       "      <td>0.10520</td>\n",
       "      <td>0.2597</td>\n",
       "      <td>0.09744</td>\n",
       "      <td>0</td>\n",
       "      <td>Malignant</td>\n",
       "    </tr>\n",
       "    <tr>\n",
       "      <th>4</th>\n",
       "      <td>20.29</td>\n",
       "      <td>14.34</td>\n",
       "      <td>135.10</td>\n",
       "      <td>1297.0</td>\n",
       "      <td>0.10030</td>\n",
       "      <td>0.13280</td>\n",
       "      <td>0.1980</td>\n",
       "      <td>0.10430</td>\n",
       "      <td>0.1809</td>\n",
       "      <td>0.05883</td>\n",
       "      <td>0</td>\n",
       "      <td>Malignant</td>\n",
       "    </tr>\n",
       "  </tbody>\n",
       "</table>\n",
       "</div>"
      ],
      "text/plain": [
       "   mean radius  mean texture  mean perimeter  mean area  mean smoothness  \\\n",
       "0        17.99         10.38          122.80     1001.0          0.11840   \n",
       "1        20.57         17.77          132.90     1326.0          0.08474   \n",
       "2        19.69         21.25          130.00     1203.0          0.10960   \n",
       "3        11.42         20.38           77.58      386.1          0.14250   \n",
       "4        20.29         14.34          135.10     1297.0          0.10030   \n",
       "\n",
       "   mean compactness  mean concavity  mean concave points  mean symmetry  \\\n",
       "0           0.27760          0.3001              0.14710         0.2419   \n",
       "1           0.07864          0.0869              0.07017         0.1812   \n",
       "2           0.15990          0.1974              0.12790         0.2069   \n",
       "3           0.28390          0.2414              0.10520         0.2597   \n",
       "4           0.13280          0.1980              0.10430         0.1809   \n",
       "\n",
       "   mean fractal dimension  diagnosis    outcome  \n",
       "0                 0.07871          0  Malignant  \n",
       "1                 0.05667          0  Malignant  \n",
       "2                 0.05999          0  Malignant  \n",
       "3                 0.09744          0  Malignant  \n",
       "4                 0.05883          0  Malignant  "
      ]
     },
     "execution_count": 15,
     "metadata": {},
     "output_type": "execute_result"
    }
   ],
   "source": [
    "# -- Preview the data --\n",
    "\n",
    "cancer_df.head()"
   ]
  },
  {
   "cell_type": "markdown",
   "metadata": {},
   "source": [
    "### Examine relationships between features"
   ]
  },
  {
   "cell_type": "code",
   "execution_count": 74,
   "metadata": {},
   "outputs": [
    {
     "data": {
      "image/png": "[encoded data removed]",
      "text/plain": [
       "<Figure size 1440x1080 with 12 Axes>"
      ]
     },
     "metadata": {
      "needs_background": "light"
     },
     "output_type": "display_data"
    }
   ],
   "source": [
    "# -- Examine the distributin of variables --\n",
    "cancer_df.hist(bins=10,figsize=(20,15))\n",
    "plt.show()"
   ]
  },
  {
   "cell_type": "code",
   "execution_count": 16,
   "metadata": {},
   "outputs": [
    {
     "data": {
      "text/html": [
       "<style  type=\"text/css\" >\n",
       "    #T_16e1ab3e_8aac_11ea_aec0_645aede8dc9drow0_col0 {\n",
       "            background-color:  #00441b;\n",
       "            color:  #f1f1f1;\n",
       "        }    #T_16e1ab3e_8aac_11ea_aec0_645aede8dc9drow0_col1 {\n",
       "            background-color:  #6bc072;\n",
       "            color:  #000000;\n",
       "        }    #T_16e1ab3e_8aac_11ea_aec0_645aede8dc9drow0_col2 {\n",
       "            background-color:  #00441b;\n",
       "            color:  #f1f1f1;\n",
       "        }    #T_16e1ab3e_8aac_11ea_aec0_645aede8dc9drow0_col3 {\n",
       "            background-color:  #00451c;\n",
       "            color:  #f1f1f1;\n",
       "        }    #T_16e1ab3e_8aac_11ea_aec0_645aede8dc9drow0_col4 {\n",
       "            background-color:  #9cd797;\n",
       "            color:  #000000;\n",
       "        }    #T_16e1ab3e_8aac_11ea_aec0_645aede8dc9drow0_col5 {\n",
       "            background-color:  #319a50;\n",
       "            color:  #000000;\n",
       "        }    #T_16e1ab3e_8aac_11ea_aec0_645aede8dc9drow0_col6 {\n",
       "            background-color:  #127c39;\n",
       "            color:  #f1f1f1;\n",
       "        }    #T_16e1ab3e_8aac_11ea_aec0_645aede8dc9drow0_col7 {\n",
       "            background-color:  #006428;\n",
       "            color:  #f1f1f1;\n",
       "        }    #T_16e1ab3e_8aac_11ea_aec0_645aede8dc9drow0_col8 {\n",
       "            background-color:  #a5db9f;\n",
       "            color:  #000000;\n",
       "        }    #T_16e1ab3e_8aac_11ea_aec0_645aede8dc9drow0_col9 {\n",
       "            background-color:  #f7fcf5;\n",
       "            color:  #000000;\n",
       "        }    #T_16e1ab3e_8aac_11ea_aec0_645aede8dc9drow0_col10 {\n",
       "            background-color:  #f4fbf1;\n",
       "            color:  #000000;\n",
       "        }    #T_16e1ab3e_8aac_11ea_aec0_645aede8dc9drow1_col0 {\n",
       "            background-color:  #48ae60;\n",
       "            color:  #000000;\n",
       "        }    #T_16e1ab3e_8aac_11ea_aec0_645aede8dc9drow1_col1 {\n",
       "            background-color:  #00441b;\n",
       "            color:  #f1f1f1;\n",
       "        }    #T_16e1ab3e_8aac_11ea_aec0_645aede8dc9drow1_col2 {\n",
       "            background-color:  #45ad5f;\n",
       "            color:  #000000;\n",
       "        }    #T_16e1ab3e_8aac_11ea_aec0_645aede8dc9drow1_col3 {\n",
       "            background-color:  #4aaf61;\n",
       "            color:  #000000;\n",
       "        }    #T_16e1ab3e_8aac_11ea_aec0_645aede8dc9drow1_col4 {\n",
       "            background-color:  #c8e9c1;\n",
       "            color:  #000000;\n",
       "        }    #T_16e1ab3e_8aac_11ea_aec0_645aede8dc9drow1_col5 {\n",
       "            background-color:  #6bc072;\n",
       "            color:  #000000;\n",
       "        }    #T_16e1ab3e_8aac_11ea_aec0_645aede8dc9drow1_col6 {\n",
       "            background-color:  #50b264;\n",
       "            color:  #000000;\n",
       "        }    #T_16e1ab3e_8aac_11ea_aec0_645aede8dc9drow1_col7 {\n",
       "            background-color:  #4aaf61;\n",
       "            color:  #000000;\n",
       "        }    #T_16e1ab3e_8aac_11ea_aec0_645aede8dc9drow1_col8 {\n",
       "            background-color:  #b7e2b1;\n",
       "            color:  #000000;\n",
       "        }    #T_16e1ab3e_8aac_11ea_aec0_645aede8dc9drow1_col9 {\n",
       "            background-color:  #d9f0d3;\n",
       "            color:  #000000;\n",
       "        }    #T_16e1ab3e_8aac_11ea_aec0_645aede8dc9drow1_col10 {\n",
       "            background-color:  #d2edcc;\n",
       "            color:  #000000;\n",
       "        }    #T_16e1ab3e_8aac_11ea_aec0_645aede8dc9drow2_col0 {\n",
       "            background-color:  #00441b;\n",
       "            color:  #f1f1f1;\n",
       "        }    #T_16e1ab3e_8aac_11ea_aec0_645aede8dc9drow2_col1 {\n",
       "            background-color:  #6abf71;\n",
       "            color:  #000000;\n",
       "        }    #T_16e1ab3e_8aac_11ea_aec0_645aede8dc9drow2_col2 {\n",
       "            background-color:  #00441b;\n",
       "            color:  #f1f1f1;\n",
       "        }    #T_16e1ab3e_8aac_11ea_aec0_645aede8dc9drow2_col3 {\n",
       "            background-color:  #00471c;\n",
       "            color:  #f1f1f1;\n",
       "        }    #T_16e1ab3e_8aac_11ea_aec0_645aede8dc9drow2_col4 {\n",
       "            background-color:  #92d28f;\n",
       "            color:  #000000;\n",
       "        }    #T_16e1ab3e_8aac_11ea_aec0_645aede8dc9drow2_col5 {\n",
       "            background-color:  #2a924a;\n",
       "            color:  #000000;\n",
       "        }    #T_16e1ab3e_8aac_11ea_aec0_645aede8dc9drow2_col6 {\n",
       "            background-color:  #0b7734;\n",
       "            color:  #f1f1f1;\n",
       "        }    #T_16e1ab3e_8aac_11ea_aec0_645aede8dc9drow2_col7 {\n",
       "            background-color:  #005f26;\n",
       "            color:  #f1f1f1;\n",
       "        }    #T_16e1ab3e_8aac_11ea_aec0_645aede8dc9drow2_col8 {\n",
       "            background-color:  #9ed798;\n",
       "            color:  #000000;\n",
       "        }    #T_16e1ab3e_8aac_11ea_aec0_645aede8dc9drow2_col9 {\n",
       "            background-color:  #f2faef;\n",
       "            color:  #000000;\n",
       "        }    #T_16e1ab3e_8aac_11ea_aec0_645aede8dc9drow2_col10 {\n",
       "            background-color:  #f5fbf2;\n",
       "            color:  #000000;\n",
       "        }    #T_16e1ab3e_8aac_11ea_aec0_645aede8dc9drow3_col0 {\n",
       "            background-color:  #00451c;\n",
       "            color:  #f1f1f1;\n",
       "        }    #T_16e1ab3e_8aac_11ea_aec0_645aede8dc9drow3_col1 {\n",
       "            background-color:  #6bc072;\n",
       "            color:  #000000;\n",
       "        }    #T_16e1ab3e_8aac_11ea_aec0_645aede8dc9drow3_col2 {\n",
       "            background-color:  #00451c;\n",
       "            color:  #f1f1f1;\n",
       "        }    #T_16e1ab3e_8aac_11ea_aec0_645aede8dc9drow3_col3 {\n",
       "            background-color:  #00441b;\n",
       "            color:  #f1f1f1;\n",
       "        }    #T_16e1ab3e_8aac_11ea_aec0_645aede8dc9drow3_col4 {\n",
       "            background-color:  #9bd696;\n",
       "            color:  #000000;\n",
       "        }    #T_16e1ab3e_8aac_11ea_aec0_645aede8dc9drow3_col5 {\n",
       "            background-color:  #329b51;\n",
       "            color:  #000000;\n",
       "        }    #T_16e1ab3e_8aac_11ea_aec0_645aede8dc9drow3_col6 {\n",
       "            background-color:  #117b38;\n",
       "            color:  #f1f1f1;\n",
       "        }    #T_16e1ab3e_8aac_11ea_aec0_645aede8dc9drow3_col7 {\n",
       "            background-color:  #006428;\n",
       "            color:  #f1f1f1;\n",
       "        }    #T_16e1ab3e_8aac_11ea_aec0_645aede8dc9drow3_col8 {\n",
       "            background-color:  #a5db9f;\n",
       "            color:  #000000;\n",
       "        }    #T_16e1ab3e_8aac_11ea_aec0_645aede8dc9drow3_col9 {\n",
       "            background-color:  #f4fbf2;\n",
       "            color:  #000000;\n",
       "        }    #T_16e1ab3e_8aac_11ea_aec0_645aede8dc9drow3_col10 {\n",
       "            background-color:  #f2faef;\n",
       "            color:  #000000;\n",
       "        }    #T_16e1ab3e_8aac_11ea_aec0_645aede8dc9drow4_col0 {\n",
       "            background-color:  #6bc072;\n",
       "            color:  #000000;\n",
       "        }    #T_16e1ab3e_8aac_11ea_aec0_645aede8dc9drow4_col1 {\n",
       "            background-color:  #c0e6b9;\n",
       "            color:  #000000;\n",
       "        }    #T_16e1ab3e_8aac_11ea_aec0_645aede8dc9drow4_col2 {\n",
       "            background-color:  #62bb6d;\n",
       "            color:  #000000;\n",
       "        }    #T_16e1ab3e_8aac_11ea_aec0_645aede8dc9drow4_col3 {\n",
       "            background-color:  #6dc072;\n",
       "            color:  #000000;\n",
       "        }    #T_16e1ab3e_8aac_11ea_aec0_645aede8dc9drow4_col4 {\n",
       "            background-color:  #00441b;\n",
       "            color:  #f1f1f1;\n",
       "        }    #T_16e1ab3e_8aac_11ea_aec0_645aede8dc9drow4_col5 {\n",
       "            background-color:  #18823d;\n",
       "            color:  #f1f1f1;\n",
       "        }    #T_16e1ab3e_8aac_11ea_aec0_645aede8dc9drow4_col6 {\n",
       "            background-color:  #2b934b;\n",
       "            color:  #000000;\n",
       "        }    #T_16e1ab3e_8aac_11ea_aec0_645aede8dc9drow4_col7 {\n",
       "            background-color:  #238b45;\n",
       "            color:  #000000;\n",
       "        }    #T_16e1ab3e_8aac_11ea_aec0_645aede8dc9drow4_col8 {\n",
       "            background-color:  #37a055;\n",
       "            color:  #000000;\n",
       "        }    #T_16e1ab3e_8aac_11ea_aec0_645aede8dc9drow4_col9 {\n",
       "            background-color:  #339c52;\n",
       "            color:  #000000;\n",
       "        }    #T_16e1ab3e_8aac_11ea_aec0_645aede8dc9drow4_col10 {\n",
       "            background-color:  #cbeac4;\n",
       "            color:  #000000;\n",
       "        }    #T_16e1ab3e_8aac_11ea_aec0_645aede8dc9drow5_col0 {\n",
       "            background-color:  #2c944c;\n",
       "            color:  #000000;\n",
       "        }    #T_16e1ab3e_8aac_11ea_aec0_645aede8dc9drow5_col1 {\n",
       "            background-color:  #83cb82;\n",
       "            color:  #000000;\n",
       "        }    #T_16e1ab3e_8aac_11ea_aec0_645aede8dc9drow5_col2 {\n",
       "            background-color:  #248c46;\n",
       "            color:  #000000;\n",
       "        }    #T_16e1ab3e_8aac_11ea_aec0_645aede8dc9drow5_col3 {\n",
       "            background-color:  #2e964d;\n",
       "            color:  #000000;\n",
       "        }    #T_16e1ab3e_8aac_11ea_aec0_645aede8dc9drow5_col4 {\n",
       "            background-color:  #238b45;\n",
       "            color:  #000000;\n",
       "        }    #T_16e1ab3e_8aac_11ea_aec0_645aede8dc9drow5_col5 {\n",
       "            background-color:  #00441b;\n",
       "            color:  #f1f1f1;\n",
       "        }    #T_16e1ab3e_8aac_11ea_aec0_645aede8dc9drow5_col6 {\n",
       "            background-color:  #005a24;\n",
       "            color:  #f1f1f1;\n",
       "        }    #T_16e1ab3e_8aac_11ea_aec0_645aede8dc9drow5_col7 {\n",
       "            background-color:  #006328;\n",
       "            color:  #f1f1f1;\n",
       "        }    #T_16e1ab3e_8aac_11ea_aec0_645aede8dc9drow5_col8 {\n",
       "            background-color:  #2f974e;\n",
       "            color:  #000000;\n",
       "        }    #T_16e1ab3e_8aac_11ea_aec0_645aede8dc9drow5_col9 {\n",
       "            background-color:  #369f54;\n",
       "            color:  #000000;\n",
       "        }    #T_16e1ab3e_8aac_11ea_aec0_645aede8dc9drow5_col10 {\n",
       "            background-color:  #e9f7e5;\n",
       "            color:  #000000;\n",
       "        }    #T_16e1ab3e_8aac_11ea_aec0_645aede8dc9drow6_col0 {\n",
       "            background-color:  #117b38;\n",
       "            color:  #f1f1f1;\n",
       "        }    #T_16e1ab3e_8aac_11ea_aec0_645aede8dc9drow6_col1 {\n",
       "            background-color:  #72c375;\n",
       "            color:  #000000;\n",
       "        }    #T_16e1ab3e_8aac_11ea_aec0_645aede8dc9drow6_col2 {\n",
       "            background-color:  #0a7633;\n",
       "            color:  #f1f1f1;\n",
       "        }    #T_16e1ab3e_8aac_11ea_aec0_645aede8dc9drow6_col3 {\n",
       "            background-color:  #117b38;\n",
       "            color:  #f1f1f1;\n",
       "        }    #T_16e1ab3e_8aac_11ea_aec0_645aede8dc9drow6_col4 {\n",
       "            background-color:  #3ca559;\n",
       "            color:  #000000;\n",
       "        }    #T_16e1ab3e_8aac_11ea_aec0_645aede8dc9drow6_col5 {\n",
       "            background-color:  #005b25;\n",
       "            color:  #f1f1f1;\n",
       "        }    #T_16e1ab3e_8aac_11ea_aec0_645aede8dc9drow6_col6 {\n",
       "            background-color:  #00441b;\n",
       "            color:  #f1f1f1;\n",
       "        }    #T_16e1ab3e_8aac_11ea_aec0_645aede8dc9drow6_col7 {\n",
       "            background-color:  #005221;\n",
       "            color:  #f1f1f1;\n",
       "        }    #T_16e1ab3e_8aac_11ea_aec0_645aede8dc9drow6_col8 {\n",
       "            background-color:  #42ab5d;\n",
       "            color:  #000000;\n",
       "        }    #T_16e1ab3e_8aac_11ea_aec0_645aede8dc9drow6_col9 {\n",
       "            background-color:  #76c578;\n",
       "            color:  #000000;\n",
       "        }    #T_16e1ab3e_8aac_11ea_aec0_645aede8dc9drow6_col10 {\n",
       "            background-color:  #f1faee;\n",
       "            color:  #000000;\n",
       "        }    #T_16e1ab3e_8aac_11ea_aec0_645aede8dc9drow7_col0 {\n",
       "            background-color:  #006529;\n",
       "            color:  #f1f1f1;\n",
       "        }    #T_16e1ab3e_8aac_11ea_aec0_645aede8dc9drow7_col1 {\n",
       "            background-color:  #73c476;\n",
       "            color:  #000000;\n",
       "        }    #T_16e1ab3e_8aac_11ea_aec0_645aede8dc9drow7_col2 {\n",
       "            background-color:  #005f26;\n",
       "            color:  #f1f1f1;\n",
       "        }    #T_16e1ab3e_8aac_11ea_aec0_645aede8dc9drow7_col3 {\n",
       "            background-color:  #006529;\n",
       "            color:  #f1f1f1;\n",
       "        }    #T_16e1ab3e_8aac_11ea_aec0_645aede8dc9drow7_col4 {\n",
       "            background-color:  #369f54;\n",
       "            color:  #000000;\n",
       "        }    #T_16e1ab3e_8aac_11ea_aec0_645aede8dc9drow7_col5 {\n",
       "            background-color:  #006729;\n",
       "            color:  #f1f1f1;\n",
       "        }    #T_16e1ab3e_8aac_11ea_aec0_645aede8dc9drow7_col6 {\n",
       "            background-color:  #005221;\n",
       "            color:  #f1f1f1;\n",
       "        }    #T_16e1ab3e_8aac_11ea_aec0_645aede8dc9drow7_col7 {\n",
       "            background-color:  #00441b;\n",
       "            color:  #f1f1f1;\n",
       "        }    #T_16e1ab3e_8aac_11ea_aec0_645aede8dc9drow7_col8 {\n",
       "            background-color:  #4db163;\n",
       "            color:  #000000;\n",
       "        }    #T_16e1ab3e_8aac_11ea_aec0_645aede8dc9drow7_col9 {\n",
       "            background-color:  #a4da9e;\n",
       "            color:  #000000;\n",
       "        }    #T_16e1ab3e_8aac_11ea_aec0_645aede8dc9drow7_col10 {\n",
       "            background-color:  #f7fcf5;\n",
       "            color:  #000000;\n",
       "        }    #T_16e1ab3e_8aac_11ea_aec0_645aede8dc9drow8_col0 {\n",
       "            background-color:  #72c375;\n",
       "            color:  #000000;\n",
       "        }    #T_16e1ab3e_8aac_11ea_aec0_645aede8dc9drow8_col1 {\n",
       "            background-color:  #aadda4;\n",
       "            color:  #000000;\n",
       "        }    #T_16e1ab3e_8aac_11ea_aec0_645aede8dc9drow8_col2 {\n",
       "            background-color:  #68be70;\n",
       "            color:  #000000;\n",
       "        }    #T_16e1ab3e_8aac_11ea_aec0_645aede8dc9drow8_col3 {\n",
       "            background-color:  #73c476;\n",
       "            color:  #000000;\n",
       "        }    #T_16e1ab3e_8aac_11ea_aec0_645aede8dc9drow8_col4 {\n",
       "            background-color:  #359e53;\n",
       "            color:  #000000;\n",
       "        }    #T_16e1ab3e_8aac_11ea_aec0_645aede8dc9drow8_col5 {\n",
       "            background-color:  #228a44;\n",
       "            color:  #000000;\n",
       "        }    #T_16e1ab3e_8aac_11ea_aec0_645aede8dc9drow8_col6 {\n",
       "            background-color:  #2e964d;\n",
       "            color:  #000000;\n",
       "        }    #T_16e1ab3e_8aac_11ea_aec0_645aede8dc9drow8_col7 {\n",
       "            background-color:  #2f984f;\n",
       "            color:  #000000;\n",
       "        }    #T_16e1ab3e_8aac_11ea_aec0_645aede8dc9drow8_col8 {\n",
       "            background-color:  #00441b;\n",
       "            color:  #f1f1f1;\n",
       "        }    #T_16e1ab3e_8aac_11ea_aec0_645aede8dc9drow8_col9 {\n",
       "            background-color:  #4aaf61;\n",
       "            color:  #000000;\n",
       "        }    #T_16e1ab3e_8aac_11ea_aec0_645aede8dc9drow8_col10 {\n",
       "            background-color:  #c7e9c0;\n",
       "            color:  #000000;\n",
       "        }    #T_16e1ab3e_8aac_11ea_aec0_645aede8dc9drow9_col0 {\n",
       "            background-color:  #caeac3;\n",
       "            color:  #000000;\n",
       "        }    #T_16e1ab3e_8aac_11ea_aec0_645aede8dc9drow9_col1 {\n",
       "            background-color:  #caeac3;\n",
       "            color:  #000000;\n",
       "        }    #T_16e1ab3e_8aac_11ea_aec0_645aede8dc9drow9_col2 {\n",
       "            background-color:  #c0e6b9;\n",
       "            color:  #000000;\n",
       "        }    #T_16e1ab3e_8aac_11ea_aec0_645aede8dc9drow9_col3 {\n",
       "            background-color:  #c8e9c1;\n",
       "            color:  #000000;\n",
       "        }    #T_16e1ab3e_8aac_11ea_aec0_645aede8dc9drow9_col4 {\n",
       "            background-color:  #309950;\n",
       "            color:  #000000;\n",
       "        }    #T_16e1ab3e_8aac_11ea_aec0_645aede8dc9drow9_col5 {\n",
       "            background-color:  #289049;\n",
       "            color:  #000000;\n",
       "        }    #T_16e1ab3e_8aac_11ea_aec0_645aede8dc9drow9_col6 {\n",
       "            background-color:  #48ae60;\n",
       "            color:  #000000;\n",
       "        }    #T_16e1ab3e_8aac_11ea_aec0_645aede8dc9drow9_col7 {\n",
       "            background-color:  #68be70;\n",
       "            color:  #000000;\n",
       "        }    #T_16e1ab3e_8aac_11ea_aec0_645aede8dc9drow9_col8 {\n",
       "            background-color:  #48ae60;\n",
       "            color:  #000000;\n",
       "        }    #T_16e1ab3e_8aac_11ea_aec0_645aede8dc9drow9_col9 {\n",
       "            background-color:  #00441b;\n",
       "            color:  #f1f1f1;\n",
       "        }    #T_16e1ab3e_8aac_11ea_aec0_645aede8dc9drow9_col10 {\n",
       "            background-color:  #88ce87;\n",
       "            color:  #000000;\n",
       "        }    #T_16e1ab3e_8aac_11ea_aec0_645aede8dc9drow10_col0 {\n",
       "            background-color:  #f7fcf5;\n",
       "            color:  #000000;\n",
       "        }    #T_16e1ab3e_8aac_11ea_aec0_645aede8dc9drow10_col1 {\n",
       "            background-color:  #f7fcf5;\n",
       "            color:  #000000;\n",
       "        }    #T_16e1ab3e_8aac_11ea_aec0_645aede8dc9drow10_col2 {\n",
       "            background-color:  #f7fcf5;\n",
       "            color:  #000000;\n",
       "        }    #T_16e1ab3e_8aac_11ea_aec0_645aede8dc9drow10_col3 {\n",
       "            background-color:  #f7fcf5;\n",
       "            color:  #000000;\n",
       "        }    #T_16e1ab3e_8aac_11ea_aec0_645aede8dc9drow10_col4 {\n",
       "            background-color:  #f7fcf5;\n",
       "            color:  #000000;\n",
       "        }    #T_16e1ab3e_8aac_11ea_aec0_645aede8dc9drow10_col5 {\n",
       "            background-color:  #f7fcf5;\n",
       "            color:  #000000;\n",
       "        }    #T_16e1ab3e_8aac_11ea_aec0_645aede8dc9drow10_col6 {\n",
       "            background-color:  #f7fcf5;\n",
       "            color:  #000000;\n",
       "        }    #T_16e1ab3e_8aac_11ea_aec0_645aede8dc9drow10_col7 {\n",
       "            background-color:  #f7fcf5;\n",
       "            color:  #000000;\n",
       "        }    #T_16e1ab3e_8aac_11ea_aec0_645aede8dc9drow10_col8 {\n",
       "            background-color:  #f7fcf5;\n",
       "            color:  #000000;\n",
       "        }    #T_16e1ab3e_8aac_11ea_aec0_645aede8dc9drow10_col9 {\n",
       "            background-color:  #c8e9c1;\n",
       "            color:  #000000;\n",
       "        }    #T_16e1ab3e_8aac_11ea_aec0_645aede8dc9drow10_col10 {\n",
       "            background-color:  #00441b;\n",
       "            color:  #f1f1f1;\n",
       "        }</style><table id=\"T_16e1ab3e_8aac_11ea_aec0_645aede8dc9d\" ><thead>    <tr>        <th class=\"blank level0\" ></th>        <th class=\"col_heading level0 col0\" >mean radius</th>        <th class=\"col_heading level0 col1\" >mean texture</th>        <th class=\"col_heading level0 col2\" >mean perimeter</th>        <th class=\"col_heading level0 col3\" >mean area</th>        <th class=\"col_heading level0 col4\" >mean smoothness</th>        <th class=\"col_heading level0 col5\" >mean compactness</th>        <th class=\"col_heading level0 col6\" >mean concavity</th>        <th class=\"col_heading level0 col7\" >mean concave points</th>        <th class=\"col_heading level0 col8\" >mean symmetry</th>        <th class=\"col_heading level0 col9\" >mean fractal dimension</th>        <th class=\"col_heading level0 col10\" >diagnosis</th>    </tr></thead><tbody>\n",
       "                <tr>\n",
       "                        <th id=\"T_16e1ab3e_8aac_11ea_aec0_645aede8dc9dlevel0_row0\" class=\"row_heading level0 row0\" >mean radius</th>\n",
       "                        <td id=\"T_16e1ab3e_8aac_11ea_aec0_645aede8dc9drow0_col0\" class=\"data row0 col0\" >1</td>\n",
       "                        <td id=\"T_16e1ab3e_8aac_11ea_aec0_645aede8dc9drow0_col1\" class=\"data row0 col1\" >0.323782</td>\n",
       "                        <td id=\"T_16e1ab3e_8aac_11ea_aec0_645aede8dc9drow0_col2\" class=\"data row0 col2\" >0.997855</td>\n",
       "                        <td id=\"T_16e1ab3e_8aac_11ea_aec0_645aede8dc9drow0_col3\" class=\"data row0 col3\" >0.987357</td>\n",
       "                        <td id=\"T_16e1ab3e_8aac_11ea_aec0_645aede8dc9drow0_col4\" class=\"data row0 col4\" >0.170581</td>\n",
       "                        <td id=\"T_16e1ab3e_8aac_11ea_aec0_645aede8dc9drow0_col5\" class=\"data row0 col5\" >0.506124</td>\n",
       "                        <td id=\"T_16e1ab3e_8aac_11ea_aec0_645aede8dc9drow0_col6\" class=\"data row0 col6\" >0.676764</td>\n",
       "                        <td id=\"T_16e1ab3e_8aac_11ea_aec0_645aede8dc9drow0_col7\" class=\"data row0 col7\" >0.822529</td>\n",
       "                        <td id=\"T_16e1ab3e_8aac_11ea_aec0_645aede8dc9drow0_col8\" class=\"data row0 col8\" >0.147741</td>\n",
       "                        <td id=\"T_16e1ab3e_8aac_11ea_aec0_645aede8dc9drow0_col9\" class=\"data row0 col9\" >-0.311631</td>\n",
       "                        <td id=\"T_16e1ab3e_8aac_11ea_aec0_645aede8dc9drow0_col10\" class=\"data row0 col10\" >-0.730029</td>\n",
       "            </tr>\n",
       "            <tr>\n",
       "                        <th id=\"T_16e1ab3e_8aac_11ea_aec0_645aede8dc9dlevel0_row1\" class=\"row_heading level0 row1\" >mean texture</th>\n",
       "                        <td id=\"T_16e1ab3e_8aac_11ea_aec0_645aede8dc9drow1_col0\" class=\"data row1 col0\" >0.323782</td>\n",
       "                        <td id=\"T_16e1ab3e_8aac_11ea_aec0_645aede8dc9drow1_col1\" class=\"data row1 col1\" >1</td>\n",
       "                        <td id=\"T_16e1ab3e_8aac_11ea_aec0_645aede8dc9drow1_col2\" class=\"data row1 col2\" >0.329533</td>\n",
       "                        <td id=\"T_16e1ab3e_8aac_11ea_aec0_645aede8dc9drow1_col3\" class=\"data row1 col3\" >0.321086</td>\n",
       "                        <td id=\"T_16e1ab3e_8aac_11ea_aec0_645aede8dc9drow1_col4\" class=\"data row1 col4\" >-0.0233885</td>\n",
       "                        <td id=\"T_16e1ab3e_8aac_11ea_aec0_645aede8dc9drow1_col5\" class=\"data row1 col5\" >0.236702</td>\n",
       "                        <td id=\"T_16e1ab3e_8aac_11ea_aec0_645aede8dc9drow1_col6\" class=\"data row1 col6\" >0.302418</td>\n",
       "                        <td id=\"T_16e1ab3e_8aac_11ea_aec0_645aede8dc9drow1_col7\" class=\"data row1 col7\" >0.293464</td>\n",
       "                        <td id=\"T_16e1ab3e_8aac_11ea_aec0_645aede8dc9drow1_col8\" class=\"data row1 col8\" >0.071401</td>\n",
       "                        <td id=\"T_16e1ab3e_8aac_11ea_aec0_645aede8dc9drow1_col9\" class=\"data row1 col9\" >-0.0764372</td>\n",
       "                        <td id=\"T_16e1ab3e_8aac_11ea_aec0_645aede8dc9drow1_col10\" class=\"data row1 col10\" >-0.415185</td>\n",
       "            </tr>\n",
       "            <tr>\n",
       "                        <th id=\"T_16e1ab3e_8aac_11ea_aec0_645aede8dc9dlevel0_row2\" class=\"row_heading level0 row2\" >mean perimeter</th>\n",
       "                        <td id=\"T_16e1ab3e_8aac_11ea_aec0_645aede8dc9drow2_col0\" class=\"data row2 col0\" >0.997855</td>\n",
       "                        <td id=\"T_16e1ab3e_8aac_11ea_aec0_645aede8dc9drow2_col1\" class=\"data row2 col1\" >0.329533</td>\n",
       "                        <td id=\"T_16e1ab3e_8aac_11ea_aec0_645aede8dc9drow2_col2\" class=\"data row2 col2\" >1</td>\n",
       "                        <td id=\"T_16e1ab3e_8aac_11ea_aec0_645aede8dc9drow2_col3\" class=\"data row2 col3\" >0.986507</td>\n",
       "                        <td id=\"T_16e1ab3e_8aac_11ea_aec0_645aede8dc9drow2_col4\" class=\"data row2 col4\" >0.207278</td>\n",
       "                        <td id=\"T_16e1ab3e_8aac_11ea_aec0_645aede8dc9drow2_col5\" class=\"data row2 col5\" >0.556936</td>\n",
       "                        <td id=\"T_16e1ab3e_8aac_11ea_aec0_645aede8dc9drow2_col6\" class=\"data row2 col6\" >0.716136</td>\n",
       "                        <td id=\"T_16e1ab3e_8aac_11ea_aec0_645aede8dc9drow2_col7\" class=\"data row2 col7\" >0.850977</td>\n",
       "                        <td id=\"T_16e1ab3e_8aac_11ea_aec0_645aede8dc9drow2_col8\" class=\"data row2 col8\" >0.183027</td>\n",
       "                        <td id=\"T_16e1ab3e_8aac_11ea_aec0_645aede8dc9drow2_col9\" class=\"data row2 col9\" >-0.261477</td>\n",
       "                        <td id=\"T_16e1ab3e_8aac_11ea_aec0_645aede8dc9drow2_col10\" class=\"data row2 col10\" >-0.742636</td>\n",
       "            </tr>\n",
       "            <tr>\n",
       "                        <th id=\"T_16e1ab3e_8aac_11ea_aec0_645aede8dc9dlevel0_row3\" class=\"row_heading level0 row3\" >mean area</th>\n",
       "                        <td id=\"T_16e1ab3e_8aac_11ea_aec0_645aede8dc9drow3_col0\" class=\"data row3 col0\" >0.987357</td>\n",
       "                        <td id=\"T_16e1ab3e_8aac_11ea_aec0_645aede8dc9drow3_col1\" class=\"data row3 col1\" >0.321086</td>\n",
       "                        <td id=\"T_16e1ab3e_8aac_11ea_aec0_645aede8dc9drow3_col2\" class=\"data row3 col2\" >0.986507</td>\n",
       "                        <td id=\"T_16e1ab3e_8aac_11ea_aec0_645aede8dc9drow3_col3\" class=\"data row3 col3\" >1</td>\n",
       "                        <td id=\"T_16e1ab3e_8aac_11ea_aec0_645aede8dc9drow3_col4\" class=\"data row3 col4\" >0.177028</td>\n",
       "                        <td id=\"T_16e1ab3e_8aac_11ea_aec0_645aede8dc9drow3_col5\" class=\"data row3 col5\" >0.498502</td>\n",
       "                        <td id=\"T_16e1ab3e_8aac_11ea_aec0_645aede8dc9drow3_col6\" class=\"data row3 col6\" >0.685983</td>\n",
       "                        <td id=\"T_16e1ab3e_8aac_11ea_aec0_645aede8dc9drow3_col7\" class=\"data row3 col7\" >0.823269</td>\n",
       "                        <td id=\"T_16e1ab3e_8aac_11ea_aec0_645aede8dc9drow3_col8\" class=\"data row3 col8\" >0.151293</td>\n",
       "                        <td id=\"T_16e1ab3e_8aac_11ea_aec0_645aede8dc9drow3_col9\" class=\"data row3 col9\" >-0.28311</td>\n",
       "                        <td id=\"T_16e1ab3e_8aac_11ea_aec0_645aede8dc9drow3_col10\" class=\"data row3 col10\" >-0.708984</td>\n",
       "            </tr>\n",
       "            <tr>\n",
       "                        <th id=\"T_16e1ab3e_8aac_11ea_aec0_645aede8dc9dlevel0_row4\" class=\"row_heading level0 row4\" >mean smoothness</th>\n",
       "                        <td id=\"T_16e1ab3e_8aac_11ea_aec0_645aede8dc9drow4_col0\" class=\"data row4 col0\" >0.170581</td>\n",
       "                        <td id=\"T_16e1ab3e_8aac_11ea_aec0_645aede8dc9drow4_col1\" class=\"data row4 col1\" >-0.0233885</td>\n",
       "                        <td id=\"T_16e1ab3e_8aac_11ea_aec0_645aede8dc9drow4_col2\" class=\"data row4 col2\" >0.207278</td>\n",
       "                        <td id=\"T_16e1ab3e_8aac_11ea_aec0_645aede8dc9drow4_col3\" class=\"data row4 col3\" >0.177028</td>\n",
       "                        <td id=\"T_16e1ab3e_8aac_11ea_aec0_645aede8dc9drow4_col4\" class=\"data row4 col4\" >1</td>\n",
       "                        <td id=\"T_16e1ab3e_8aac_11ea_aec0_645aede8dc9drow4_col5\" class=\"data row4 col5\" >0.659123</td>\n",
       "                        <td id=\"T_16e1ab3e_8aac_11ea_aec0_645aede8dc9drow4_col6\" class=\"data row4 col6\" >0.521984</td>\n",
       "                        <td id=\"T_16e1ab3e_8aac_11ea_aec0_645aede8dc9drow4_col7\" class=\"data row4 col7\" >0.553695</td>\n",
       "                        <td id=\"T_16e1ab3e_8aac_11ea_aec0_645aede8dc9drow4_col8\" class=\"data row4 col8\" >0.557775</td>\n",
       "                        <td id=\"T_16e1ab3e_8aac_11ea_aec0_645aede8dc9drow4_col9\" class=\"data row4 col9\" >0.584792</td>\n",
       "                        <td id=\"T_16e1ab3e_8aac_11ea_aec0_645aede8dc9drow4_col10\" class=\"data row4 col10\" >-0.35856</td>\n",
       "            </tr>\n",
       "            <tr>\n",
       "                        <th id=\"T_16e1ab3e_8aac_11ea_aec0_645aede8dc9dlevel0_row5\" class=\"row_heading level0 row5\" >mean compactness</th>\n",
       "                        <td id=\"T_16e1ab3e_8aac_11ea_aec0_645aede8dc9drow5_col0\" class=\"data row5 col0\" >0.506124</td>\n",
       "                        <td id=\"T_16e1ab3e_8aac_11ea_aec0_645aede8dc9drow5_col1\" class=\"data row5 col1\" >0.236702</td>\n",
       "                        <td id=\"T_16e1ab3e_8aac_11ea_aec0_645aede8dc9drow5_col2\" class=\"data row5 col2\" >0.556936</td>\n",
       "                        <td id=\"T_16e1ab3e_8aac_11ea_aec0_645aede8dc9drow5_col3\" class=\"data row5 col3\" >0.498502</td>\n",
       "                        <td id=\"T_16e1ab3e_8aac_11ea_aec0_645aede8dc9drow5_col4\" class=\"data row5 col4\" >0.659123</td>\n",
       "                        <td id=\"T_16e1ab3e_8aac_11ea_aec0_645aede8dc9drow5_col5\" class=\"data row5 col5\" >1</td>\n",
       "                        <td id=\"T_16e1ab3e_8aac_11ea_aec0_645aede8dc9drow5_col6\" class=\"data row5 col6\" >0.883121</td>\n",
       "                        <td id=\"T_16e1ab3e_8aac_11ea_aec0_645aede8dc9drow5_col7\" class=\"data row5 col7\" >0.831135</td>\n",
       "                        <td id=\"T_16e1ab3e_8aac_11ea_aec0_645aede8dc9drow5_col8\" class=\"data row5 col8\" >0.602641</td>\n",
       "                        <td id=\"T_16e1ab3e_8aac_11ea_aec0_645aede8dc9drow5_col9\" class=\"data row5 col9\" >0.565369</td>\n",
       "                        <td id=\"T_16e1ab3e_8aac_11ea_aec0_645aede8dc9drow5_col10\" class=\"data row5 col10\" >-0.596534</td>\n",
       "            </tr>\n",
       "            <tr>\n",
       "                        <th id=\"T_16e1ab3e_8aac_11ea_aec0_645aede8dc9dlevel0_row6\" class=\"row_heading level0 row6\" >mean concavity</th>\n",
       "                        <td id=\"T_16e1ab3e_8aac_11ea_aec0_645aede8dc9drow6_col0\" class=\"data row6 col0\" >0.676764</td>\n",
       "                        <td id=\"T_16e1ab3e_8aac_11ea_aec0_645aede8dc9drow6_col1\" class=\"data row6 col1\" >0.302418</td>\n",
       "                        <td id=\"T_16e1ab3e_8aac_11ea_aec0_645aede8dc9drow6_col2\" class=\"data row6 col2\" >0.716136</td>\n",
       "                        <td id=\"T_16e1ab3e_8aac_11ea_aec0_645aede8dc9drow6_col3\" class=\"data row6 col3\" >0.685983</td>\n",
       "                        <td id=\"T_16e1ab3e_8aac_11ea_aec0_645aede8dc9drow6_col4\" class=\"data row6 col4\" >0.521984</td>\n",
       "                        <td id=\"T_16e1ab3e_8aac_11ea_aec0_645aede8dc9drow6_col5\" class=\"data row6 col5\" >0.883121</td>\n",
       "                        <td id=\"T_16e1ab3e_8aac_11ea_aec0_645aede8dc9drow6_col6\" class=\"data row6 col6\" >1</td>\n",
       "                        <td id=\"T_16e1ab3e_8aac_11ea_aec0_645aede8dc9drow6_col7\" class=\"data row6 col7\" >0.921391</td>\n",
       "                        <td id=\"T_16e1ab3e_8aac_11ea_aec0_645aede8dc9drow6_col8\" class=\"data row6 col8\" >0.500667</td>\n",
       "                        <td id=\"T_16e1ab3e_8aac_11ea_aec0_645aede8dc9drow6_col9\" class=\"data row6 col9\" >0.336783</td>\n",
       "                        <td id=\"T_16e1ab3e_8aac_11ea_aec0_645aede8dc9drow6_col10\" class=\"data row6 col10\" >-0.69636</td>\n",
       "            </tr>\n",
       "            <tr>\n",
       "                        <th id=\"T_16e1ab3e_8aac_11ea_aec0_645aede8dc9dlevel0_row7\" class=\"row_heading level0 row7\" >mean concave points</th>\n",
       "                        <td id=\"T_16e1ab3e_8aac_11ea_aec0_645aede8dc9drow7_col0\" class=\"data row7 col0\" >0.822529</td>\n",
       "                        <td id=\"T_16e1ab3e_8aac_11ea_aec0_645aede8dc9drow7_col1\" class=\"data row7 col1\" >0.293464</td>\n",
       "                        <td id=\"T_16e1ab3e_8aac_11ea_aec0_645aede8dc9drow7_col2\" class=\"data row7 col2\" >0.850977</td>\n",
       "                        <td id=\"T_16e1ab3e_8aac_11ea_aec0_645aede8dc9drow7_col3\" class=\"data row7 col3\" >0.823269</td>\n",
       "                        <td id=\"T_16e1ab3e_8aac_11ea_aec0_645aede8dc9drow7_col4\" class=\"data row7 col4\" >0.553695</td>\n",
       "                        <td id=\"T_16e1ab3e_8aac_11ea_aec0_645aede8dc9drow7_col5\" class=\"data row7 col5\" >0.831135</td>\n",
       "                        <td id=\"T_16e1ab3e_8aac_11ea_aec0_645aede8dc9drow7_col6\" class=\"data row7 col6\" >0.921391</td>\n",
       "                        <td id=\"T_16e1ab3e_8aac_11ea_aec0_645aede8dc9drow7_col7\" class=\"data row7 col7\" >1</td>\n",
       "                        <td id=\"T_16e1ab3e_8aac_11ea_aec0_645aede8dc9drow7_col8\" class=\"data row7 col8\" >0.462497</td>\n",
       "                        <td id=\"T_16e1ab3e_8aac_11ea_aec0_645aede8dc9drow7_col9\" class=\"data row7 col9\" >0.166917</td>\n",
       "                        <td id=\"T_16e1ab3e_8aac_11ea_aec0_645aede8dc9drow7_col10\" class=\"data row7 col10\" >-0.776614</td>\n",
       "            </tr>\n",
       "            <tr>\n",
       "                        <th id=\"T_16e1ab3e_8aac_11ea_aec0_645aede8dc9dlevel0_row8\" class=\"row_heading level0 row8\" >mean symmetry</th>\n",
       "                        <td id=\"T_16e1ab3e_8aac_11ea_aec0_645aede8dc9drow8_col0\" class=\"data row8 col0\" >0.147741</td>\n",
       "                        <td id=\"T_16e1ab3e_8aac_11ea_aec0_645aede8dc9drow8_col1\" class=\"data row8 col1\" >0.071401</td>\n",
       "                        <td id=\"T_16e1ab3e_8aac_11ea_aec0_645aede8dc9drow8_col2\" class=\"data row8 col2\" >0.183027</td>\n",
       "                        <td id=\"T_16e1ab3e_8aac_11ea_aec0_645aede8dc9drow8_col3\" class=\"data row8 col3\" >0.151293</td>\n",
       "                        <td id=\"T_16e1ab3e_8aac_11ea_aec0_645aede8dc9drow8_col4\" class=\"data row8 col4\" >0.557775</td>\n",
       "                        <td id=\"T_16e1ab3e_8aac_11ea_aec0_645aede8dc9drow8_col5\" class=\"data row8 col5\" >0.602641</td>\n",
       "                        <td id=\"T_16e1ab3e_8aac_11ea_aec0_645aede8dc9drow8_col6\" class=\"data row8 col6\" >0.500667</td>\n",
       "                        <td id=\"T_16e1ab3e_8aac_11ea_aec0_645aede8dc9drow8_col7\" class=\"data row8 col7\" >0.462497</td>\n",
       "                        <td id=\"T_16e1ab3e_8aac_11ea_aec0_645aede8dc9drow8_col8\" class=\"data row8 col8\" >1</td>\n",
       "                        <td id=\"T_16e1ab3e_8aac_11ea_aec0_645aede8dc9drow8_col9\" class=\"data row8 col9\" >0.479921</td>\n",
       "                        <td id=\"T_16e1ab3e_8aac_11ea_aec0_645aede8dc9drow8_col10\" class=\"data row8 col10\" >-0.330499</td>\n",
       "            </tr>\n",
       "            <tr>\n",
       "                        <th id=\"T_16e1ab3e_8aac_11ea_aec0_645aede8dc9dlevel0_row9\" class=\"row_heading level0 row9\" >mean fractal dimension</th>\n",
       "                        <td id=\"T_16e1ab3e_8aac_11ea_aec0_645aede8dc9drow9_col0\" class=\"data row9 col0\" >-0.311631</td>\n",
       "                        <td id=\"T_16e1ab3e_8aac_11ea_aec0_645aede8dc9drow9_col1\" class=\"data row9 col1\" >-0.0764372</td>\n",
       "                        <td id=\"T_16e1ab3e_8aac_11ea_aec0_645aede8dc9drow9_col2\" class=\"data row9 col2\" >-0.261477</td>\n",
       "                        <td id=\"T_16e1ab3e_8aac_11ea_aec0_645aede8dc9drow9_col3\" class=\"data row9 col3\" >-0.28311</td>\n",
       "                        <td id=\"T_16e1ab3e_8aac_11ea_aec0_645aede8dc9drow9_col4\" class=\"data row9 col4\" >0.584792</td>\n",
       "                        <td id=\"T_16e1ab3e_8aac_11ea_aec0_645aede8dc9drow9_col5\" class=\"data row9 col5\" >0.565369</td>\n",
       "                        <td id=\"T_16e1ab3e_8aac_11ea_aec0_645aede8dc9drow9_col6\" class=\"data row9 col6\" >0.336783</td>\n",
       "                        <td id=\"T_16e1ab3e_8aac_11ea_aec0_645aede8dc9drow9_col7\" class=\"data row9 col7\" >0.166917</td>\n",
       "                        <td id=\"T_16e1ab3e_8aac_11ea_aec0_645aede8dc9drow9_col8\" class=\"data row9 col8\" >0.479921</td>\n",
       "                        <td id=\"T_16e1ab3e_8aac_11ea_aec0_645aede8dc9drow9_col9\" class=\"data row9 col9\" >1</td>\n",
       "                        <td id=\"T_16e1ab3e_8aac_11ea_aec0_645aede8dc9drow9_col10\" class=\"data row9 col10\" >0.0128376</td>\n",
       "            </tr>\n",
       "            <tr>\n",
       "                        <th id=\"T_16e1ab3e_8aac_11ea_aec0_645aede8dc9dlevel0_row10\" class=\"row_heading level0 row10\" >diagnosis</th>\n",
       "                        <td id=\"T_16e1ab3e_8aac_11ea_aec0_645aede8dc9drow10_col0\" class=\"data row10 col0\" >-0.730029</td>\n",
       "                        <td id=\"T_16e1ab3e_8aac_11ea_aec0_645aede8dc9drow10_col1\" class=\"data row10 col1\" >-0.415185</td>\n",
       "                        <td id=\"T_16e1ab3e_8aac_11ea_aec0_645aede8dc9drow10_col2\" class=\"data row10 col2\" >-0.742636</td>\n",
       "                        <td id=\"T_16e1ab3e_8aac_11ea_aec0_645aede8dc9drow10_col3\" class=\"data row10 col3\" >-0.708984</td>\n",
       "                        <td id=\"T_16e1ab3e_8aac_11ea_aec0_645aede8dc9drow10_col4\" class=\"data row10 col4\" >-0.35856</td>\n",
       "                        <td id=\"T_16e1ab3e_8aac_11ea_aec0_645aede8dc9drow10_col5\" class=\"data row10 col5\" >-0.596534</td>\n",
       "                        <td id=\"T_16e1ab3e_8aac_11ea_aec0_645aede8dc9drow10_col6\" class=\"data row10 col6\" >-0.69636</td>\n",
       "                        <td id=\"T_16e1ab3e_8aac_11ea_aec0_645aede8dc9drow10_col7\" class=\"data row10 col7\" >-0.776614</td>\n",
       "                        <td id=\"T_16e1ab3e_8aac_11ea_aec0_645aede8dc9drow10_col8\" class=\"data row10 col8\" >-0.330499</td>\n",
       "                        <td id=\"T_16e1ab3e_8aac_11ea_aec0_645aede8dc9drow10_col9\" class=\"data row10 col9\" >0.0128376</td>\n",
       "                        <td id=\"T_16e1ab3e_8aac_11ea_aec0_645aede8dc9drow10_col10\" class=\"data row10 col10\" >1</td>\n",
       "            </tr>\n",
       "    </tbody></table>"
      ],
      "text/plain": [
       "<pandas.io.formats.style.Styler at 0x1a230b1128>"
      ]
     },
     "execution_count": 16,
     "metadata": {},
     "output_type": "execute_result"
    }
   ],
   "source": [
    "# -- find correlations between features --\n",
    "cancer_df.corr().style.background_gradient(\"Greens\")"
   ]
  },
  {
   "cell_type": "code",
   "execution_count": 17,
   "metadata": {},
   "outputs": [
    {
     "data": {
      "text/plain": [
       "<matplotlib.axes._subplots.AxesSubplot at 0x1a230b5d30>"
      ]
     },
     "execution_count": 17,
     "metadata": {},
     "output_type": "execute_result"
    },
    {
     "data": {
      "image/png": "[encoded data removed]",
      "text/plain": [
       "<Figure size 720x576 with 1 Axes>"
      ]
     },
     "metadata": {
      "needs_background": "light"
     },
     "output_type": "display_data"
    }
   ],
   "source": [
    "# -- Use DataFrame and Seaborn --\n",
    "\n",
    "%matplotlib inline\n",
    "\n",
    "plt.figure(figsize=(10,8)) # -- Here figsize(,) is a function to determine the size (inch) of the figure (canvas) \n",
    "sns.scatterplot(x=cancer_df['mean radius'],\n",
    "                y=cancer_df['mean texture'],hue=cancer_df['outcome'])\n",
    "# -- the parameter, hue, in seaborn works like a legend --"
   ]
  },
  {
   "cell_type": "code",
   "execution_count": 78,
   "metadata": {},
   "outputs": [
    {
     "data": {
      "text/plain": [
       "<matplotlib.axes._subplots.AxesSubplot at 0x2e76b0b1f98>"
      ]
     },
     "execution_count": 78,
     "metadata": {},
     "output_type": "execute_result"
    },
    {
     "data": {
      "image/png": "[encoded data removed]",
      "text/plain": [
       "<Figure size 720x576 with 1 Axes>"
      ]
     },
     "metadata": {
      "needs_background": "light"
     },
     "output_type": "display_data"
    }
   ],
   "source": [
    "# -- Use DataFrame and Seaborn --\n",
    "# -- See how target is related to MEAN RADIUS --\n",
    "%matplotlib inline\n",
    "\n",
    "plt.figure(figsize=(10,8))\n",
    "sns.scatterplot(x=cancer_df['mean radius'],\n",
    "                y=cancer_df['diagnosis'],hue=cancer_df['outcome'])\n"
   ]
  },
  {
   "cell_type": "markdown",
   "metadata": {},
   "source": [
    "## Modeling\n",
    "### Train with one Feature\n",
    "**Note:** Use the first feature, mean radius, to train "
   ]
  },
  {
   "cell_type": "code",
   "execution_count": 18,
   "metadata": {},
   "outputs": [
    {
     "name": "stdout",
     "output_type": "stream",
     "text": [
      "[8.19393897]\n",
      "[[-0.54291739]]\n"
     ]
    }
   ],
   "source": [
    "# --- Find intercept and coefficient ---\n",
    "\n",
    "from sklearn.linear_model import LogisticRegression\n",
    "\n",
    "log_regress = LogisticRegression(solver='liblinear')\n",
    "\n",
    "# --- train the model ---\n",
    "x = cancer_df.iloc[:,0]\n",
    "y = cancer_df['diagnosis']\n",
    "\n",
    "log_regress.fit(X = np.array(x).reshape(-1,1), y = y) \n",
    "# Here, in reshape(-1,1), 1 means making the one-dimensional array (x) two-dimensional, -1 means that \n",
    "# accordingly arrange whatevver the data are to the row dimension. \n",
    "# Please see the example of next cell. Uncomment the code before you run it. \n",
    "\n",
    "# --- print trained model intercept ---\n",
    "print(log_regress.intercept_)\n",
    "\n",
    "# --- print trained model coefficient ---\n",
    "print(log_regress.coef_)"
   ]
  },
  {
   "cell_type": "code",
   "execution_count": 19,
   "metadata": {},
   "outputs": [
    {
     "name": "stdout",
     "output_type": "stream",
     "text": [
      "[44 47 64 67 67  9 83 21 36 87 70 88]\n",
      "[[44 47 64 67 67  9 83 21 36 87 70 88]]\n",
      "(1, 12)\n",
      "[[44]\n",
      " [47]\n",
      " [64]\n",
      " [67]\n",
      " [67]\n",
      " [ 9]\n",
      " [83]\n",
      " [21]\n",
      " [36]\n",
      " [87]\n",
      " [70]\n",
      " [88]]\n",
      "(12, 1)\n"
     ]
    }
   ],
   "source": [
    "# -- Use of .reshape(1,-1) and .reshape(-1,1) --\n",
    "# -- Uncomment the following code before you run it. \n",
    "\n",
    "np.random.seed(0)\n",
    "test = np.random.randint(0,100,12) # This generates a one-dimensional array of 12 elements\n",
    "print(test)\n",
    "print(test.reshape(1,-1)) # This converts the array to two-dimensional (1,12). One row and 12 \"columns\"\n",
    "print(test.reshape(1,-1).shape)\n",
    "print(test.reshape(-1,1)) # This converts the array to two-dimensional (12,1) 12 rows and one \"column\"\n",
    "print(test.reshape(-1,1).shape)"
   ]
  },
  {
   "cell_type": "markdown",
   "metadata": {},
   "source": [
    "#### Plot the Sigmoid Curve -- DataFrame"
   ]
  },
  {
   "cell_type": "code",
   "execution_count": 22,
   "metadata": {},
   "outputs": [
    {
     "data": {
      "image/png": "[encoded data removed]",
      "text/plain": [
       "<Figure size 720x576 with 1 Axes>"
      ]
     },
     "metadata": {
      "needs_background": "light"
     },
     "output_type": "display_data"
    }
   ],
   "source": [
    "# -- Use DataFrame and Seaborn --\n",
    "\n",
    "%matplotlib inline\n",
    "\n",
    "# -- Scatter plot of MEAN RADIUS against DIAGNOSIS --\n",
    "plt.figure(figsize=(10,8))\n",
    "sns.scatterplot(x=cancer_df['mean radius'],\n",
    "                y=cancer_df['diagnosis'],hue=cancer_df['outcome'])\n",
    "\n",
    "# -- Plot the sigmoid function using the logistic regression model we obtained above --\n",
    "def sigmoid(x):\n",
    "    return (1/(1+np.exp(-(log_regress.intercept_[0] +\n",
    "                         (log_regress.coef_[0][0] * x)))))\n",
    "\n",
    "x1 = np.arange(cancer_df['mean radius'].min()-2, cancer_df['mean radius'].max()+2, 0.01)\n",
    "y1 = [sigmoid(n) for n in x1]\n",
    "\n",
    "ax = sns.scatterplot(x1,y1)\n",
    "ax.set(xlabel='mean radius',\n",
    "       ylabel='probability',title='Sigmoid Plot');"
   ]
  },
  {
   "cell_type": "markdown",
   "metadata": {},
   "source": [
    "#### Prediction "
   ]
  },
  {
   "cell_type": "code",
   "execution_count": 23,
   "metadata": {},
   "outputs": [
    {
     "name": "stdout",
     "output_type": "stream",
     "text": [
      "[[0.93489354 0.06510646]]\n",
      "0\n"
     ]
    }
   ],
   "source": [
    "# -- Make prediction --\n",
    "# -- What is the diagnosis if one person has a clump the mean radius of which is 20? --\n",
    "print(log_regress.predict_proba([[20,]]))\n",
    "print(log_regress.predict([[20,]])[0])"
   ]
  },
  {
   "cell_type": "code",
   "execution_count": 24,
   "metadata": {},
   "outputs": [
    {
     "name": "stdout",
     "output_type": "stream",
     "text": [
      "[[0.02082411 0.97917589]]\n",
      "1\n"
     ]
    }
   ],
   "source": [
    "# -- Make prediction --\n",
    "# -- What is the diagnosis if one person has a clump the mean radius of which is 8? --\n",
    "print(log_regress.predict_proba([[8,]]))\n",
    "print(log_regress.predict([[8,]])[0])"
   ]
  },
  {
   "cell_type": "code",
   "execution_count": 84,
   "metadata": {},
   "outputs": [
    {
     "data": {
      "text/plain": [
       "array([1, 0, 1, 0, 0])"
      ]
     },
     "execution_count": 84,
     "metadata": {},
     "output_type": "execute_result"
    }
   ],
   "source": [
    "# -- Make prediction --\n",
    "# -- What are the diagnoses of a group of people who have clumps of mean radius 8, 20, 7, 18, and 16? \n",
    "log_regress.predict_proba([[8,],[20,],[7,],[18,],[16,]])\n",
    "log_regress.predict([[8,],[20,],[7,],[18,],[16,]])"
   ]
  },
  {
   "cell_type": "markdown",
   "metadata": {},
   "source": [
    "### Train the Model using Two Features\n",
    "* We use two columns, mean radius and mean texture, to fit the model"
   ]
  },
  {
   "cell_type": "code",
   "execution_count": 85,
   "metadata": {},
   "outputs": [
    {
     "data": {
      "text/html": [
       "<div>\n",
       "<style scoped>\n",
       "    .dataframe tbody tr th:only-of-type {\n",
       "        vertical-align: middle;\n",
       "    }\n",
       "\n",
       "    .dataframe tbody tr th {\n",
       "        vertical-align: top;\n",
       "    }\n",
       "\n",
       "    .dataframe thead th {\n",
       "        text-align: right;\n",
       "    }\n",
       "</style>\n",
       "<table border=\"1\" class=\"dataframe\">\n",
       "  <thead>\n",
       "    <tr style=\"text-align: right;\">\n",
       "      <th></th>\n",
       "      <th>mean radius</th>\n",
       "      <th>mean texture</th>\n",
       "      <th>mean perimeter</th>\n",
       "      <th>mean area</th>\n",
       "      <th>mean smoothness</th>\n",
       "      <th>mean compactness</th>\n",
       "      <th>mean concavity</th>\n",
       "      <th>mean concave points</th>\n",
       "      <th>mean symmetry</th>\n",
       "      <th>mean fractal dimension</th>\n",
       "      <th>diagnosis</th>\n",
       "      <th>outcome</th>\n",
       "    </tr>\n",
       "  </thead>\n",
       "  <tbody>\n",
       "    <tr>\n",
       "      <th>0</th>\n",
       "      <td>17.99</td>\n",
       "      <td>10.38</td>\n",
       "      <td>122.80</td>\n",
       "      <td>1001.0</td>\n",
       "      <td>0.11840</td>\n",
       "      <td>0.27760</td>\n",
       "      <td>0.3001</td>\n",
       "      <td>0.14710</td>\n",
       "      <td>0.2419</td>\n",
       "      <td>0.07871</td>\n",
       "      <td>0</td>\n",
       "      <td>Malignant</td>\n",
       "    </tr>\n",
       "    <tr>\n",
       "      <th>1</th>\n",
       "      <td>20.57</td>\n",
       "      <td>17.77</td>\n",
       "      <td>132.90</td>\n",
       "      <td>1326.0</td>\n",
       "      <td>0.08474</td>\n",
       "      <td>0.07864</td>\n",
       "      <td>0.0869</td>\n",
       "      <td>0.07017</td>\n",
       "      <td>0.1812</td>\n",
       "      <td>0.05667</td>\n",
       "      <td>0</td>\n",
       "      <td>Malignant</td>\n",
       "    </tr>\n",
       "    <tr>\n",
       "      <th>2</th>\n",
       "      <td>19.69</td>\n",
       "      <td>21.25</td>\n",
       "      <td>130.00</td>\n",
       "      <td>1203.0</td>\n",
       "      <td>0.10960</td>\n",
       "      <td>0.15990</td>\n",
       "      <td>0.1974</td>\n",
       "      <td>0.12790</td>\n",
       "      <td>0.2069</td>\n",
       "      <td>0.05999</td>\n",
       "      <td>0</td>\n",
       "      <td>Malignant</td>\n",
       "    </tr>\n",
       "    <tr>\n",
       "      <th>3</th>\n",
       "      <td>11.42</td>\n",
       "      <td>20.38</td>\n",
       "      <td>77.58</td>\n",
       "      <td>386.1</td>\n",
       "      <td>0.14250</td>\n",
       "      <td>0.28390</td>\n",
       "      <td>0.2414</td>\n",
       "      <td>0.10520</td>\n",
       "      <td>0.2597</td>\n",
       "      <td>0.09744</td>\n",
       "      <td>0</td>\n",
       "      <td>Malignant</td>\n",
       "    </tr>\n",
       "    <tr>\n",
       "      <th>4</th>\n",
       "      <td>20.29</td>\n",
       "      <td>14.34</td>\n",
       "      <td>135.10</td>\n",
       "      <td>1297.0</td>\n",
       "      <td>0.10030</td>\n",
       "      <td>0.13280</td>\n",
       "      <td>0.1980</td>\n",
       "      <td>0.10430</td>\n",
       "      <td>0.1809</td>\n",
       "      <td>0.05883</td>\n",
       "      <td>0</td>\n",
       "      <td>Malignant</td>\n",
       "    </tr>\n",
       "  </tbody>\n",
       "</table>\n",
       "</div>"
      ],
      "text/plain": [
       "   mean radius  mean texture  mean perimeter  mean area  mean smoothness  \\\n",
       "0        17.99         10.38          122.80     1001.0          0.11840   \n",
       "1        20.57         17.77          132.90     1326.0          0.08474   \n",
       "2        19.69         21.25          130.00     1203.0          0.10960   \n",
       "3        11.42         20.38           77.58      386.1          0.14250   \n",
       "4        20.29         14.34          135.10     1297.0          0.10030   \n",
       "\n",
       "   mean compactness  mean concavity  mean concave points  mean symmetry  \\\n",
       "0           0.27760          0.3001              0.14710         0.2419   \n",
       "1           0.07864          0.0869              0.07017         0.1812   \n",
       "2           0.15990          0.1974              0.12790         0.2069   \n",
       "3           0.28390          0.2414              0.10520         0.2597   \n",
       "4           0.13280          0.1980              0.10430         0.1809   \n",
       "\n",
       "   mean fractal dimension  diagnosis    outcome  \n",
       "0                 0.07871          0  Malignant  \n",
       "1                 0.05667          0  Malignant  \n",
       "2                 0.05999          0  Malignant  \n",
       "3                 0.09744          0  Malignant  \n",
       "4                 0.05883          0  Malignant  "
      ]
     },
     "execution_count": 85,
     "metadata": {},
     "output_type": "execute_result"
    }
   ],
   "source": [
    "# -- preview the dataset --\n",
    "cancer_df.head()"
   ]
  },
  {
   "cell_type": "markdown",
   "metadata": {},
   "source": [
    "#### Split data into train and testing"
   ]
  },
  {
   "cell_type": "code",
   "execution_count": 25,
   "metadata": {},
   "outputs": [
    {
     "data": {
      "text/html": [
       "<div>\n",
       "<style scoped>\n",
       "    .dataframe tbody tr th:only-of-type {\n",
       "        vertical-align: middle;\n",
       "    }\n",
       "\n",
       "    .dataframe tbody tr th {\n",
       "        vertical-align: top;\n",
       "    }\n",
       "\n",
       "    .dataframe thead th {\n",
       "        text-align: right;\n",
       "    }\n",
       "</style>\n",
       "<table border=\"1\" class=\"dataframe\">\n",
       "  <thead>\n",
       "    <tr style=\"text-align: right;\">\n",
       "      <th></th>\n",
       "      <th>mean radius</th>\n",
       "      <th>mean texture</th>\n",
       "    </tr>\n",
       "  </thead>\n",
       "  <tbody>\n",
       "    <tr>\n",
       "      <th>359</th>\n",
       "      <td>9.436</td>\n",
       "      <td>18.32</td>\n",
       "    </tr>\n",
       "    <tr>\n",
       "      <th>48</th>\n",
       "      <td>12.050</td>\n",
       "      <td>14.63</td>\n",
       "    </tr>\n",
       "    <tr>\n",
       "      <th>518</th>\n",
       "      <td>12.880</td>\n",
       "      <td>18.22</td>\n",
       "    </tr>\n",
       "    <tr>\n",
       "      <th>226</th>\n",
       "      <td>10.440</td>\n",
       "      <td>15.46</td>\n",
       "    </tr>\n",
       "    <tr>\n",
       "      <th>524</th>\n",
       "      <td>9.847</td>\n",
       "      <td>15.68</td>\n",
       "    </tr>\n",
       "  </tbody>\n",
       "</table>\n",
       "</div>"
      ],
      "text/plain": [
       "     mean radius  mean texture\n",
       "359        9.436         18.32\n",
       "48        12.050         14.63\n",
       "518       12.880         18.22\n",
       "226       10.440         15.46\n",
       "524        9.847         15.68"
      ]
     },
     "execution_count": 25,
     "metadata": {},
     "output_type": "execute_result"
    }
   ],
   "source": [
    "# --- Split data into training and testing\n",
    "\n",
    "from sklearn.model_selection import train_test_split\n",
    "# -- train_test_split() splits data into two groups: One for training the model and \n",
    "# -- the other for testing/validating the model. --\n",
    "\n",
    "X_train, X_test, y_train, y_test = train_test_split(cancer_df.loc[:,['mean radius','mean texture']],\n",
    "                                                                 cancer_df['diagnosis'],\n",
    "                                                                 test_size=0.25,\n",
    "                                                                 random_state = 1,\n",
    "                                                                 stratify = cancer.target)\n",
    "# -- Here, the parameter, test_size = 0.25, means that we want to have 75% of data for fitting the model and \n",
    "# -- 25% for testing/validating the model. It is suggested that the training data should be more than 70% of the \n",
    "# -- whole dataset. \n",
    "\n",
    "X_train.head()"
   ]
  },
  {
   "cell_type": "markdown",
   "metadata": {},
   "source": [
    "#### Fit the model "
   ]
  },
  {
   "cell_type": "code",
   "execution_count": 26,
   "metadata": {},
   "outputs": [
    {
     "name": "stdout",
     "output_type": "stream",
     "text": [
      "[7.77062817]\n",
      "[[-0.47024108 -0.03471404]]\n"
     ]
    }
   ],
   "source": [
    "# -- import the Logistic Regression classifier --\n",
    "from sklearn.linear_model import LogisticRegression\n",
    "\n",
    "# -- Train the model --\n",
    "x = X_train            # x = X_train[:,:]\n",
    "y = y_train\n",
    "log_regress = LogisticRegression(solver = 'liblinear') # -- instantiate an instance of LogisticRegression()\n",
    "log_regress.fit(X = x, y = y) # -- Fit the model with the training data X and y. \n",
    "\n",
    "# --- Print out intercept and coefficient ---\n",
    "print(log_regress.intercept_)\n",
    "print(log_regress.coef_)"
   ]
  },
  {
   "cell_type": "markdown",
   "metadata": {},
   "source": [
    "#### Prediction"
   ]
  },
  {
   "cell_type": "code",
   "execution_count": 27,
   "metadata": {},
   "outputs": [
    {
     "data": {
      "text/html": [
       "<div>\n",
       "<style scoped>\n",
       "    .dataframe tbody tr th:only-of-type {\n",
       "        vertical-align: middle;\n",
       "    }\n",
       "\n",
       "    .dataframe tbody tr th {\n",
       "        vertical-align: top;\n",
       "    }\n",
       "\n",
       "    .dataframe thead th {\n",
       "        text-align: right;\n",
       "    }\n",
       "</style>\n",
       "<table border=\"1\" class=\"dataframe\">\n",
       "  <thead>\n",
       "    <tr style=\"text-align: right;\">\n",
       "      <th></th>\n",
       "      <th>Malignant</th>\n",
       "      <th>Benign</th>\n",
       "    </tr>\n",
       "  </thead>\n",
       "  <tbody>\n",
       "    <tr>\n",
       "      <th>0</th>\n",
       "      <td>0.916610</td>\n",
       "      <td>0.083390</td>\n",
       "    </tr>\n",
       "    <tr>\n",
       "      <th>1</th>\n",
       "      <td>0.467397</td>\n",
       "      <td>0.532603</td>\n",
       "    </tr>\n",
       "    <tr>\n",
       "      <th>2</th>\n",
       "      <td>0.411991</td>\n",
       "      <td>0.588009</td>\n",
       "    </tr>\n",
       "    <tr>\n",
       "      <th>3</th>\n",
       "      <td>0.931175</td>\n",
       "      <td>0.068825</td>\n",
       "    </tr>\n",
       "    <tr>\n",
       "      <th>4</th>\n",
       "      <td>0.155381</td>\n",
       "      <td>0.844619</td>\n",
       "    </tr>\n",
       "  </tbody>\n",
       "</table>\n",
       "</div>"
      ],
      "text/plain": [
       "   Malignant    Benign\n",
       "0   0.916610  0.083390\n",
       "1   0.467397  0.532603\n",
       "2   0.411991  0.588009\n",
       "3   0.931175  0.068825\n",
       "4   0.155381  0.844619"
      ]
     },
     "execution_count": 27,
     "metadata": {},
     "output_type": "execute_result"
    }
   ],
   "source": [
    "# --- Test the Model ---\n",
    "preds_prob = pd.DataFrame(log_regress.predict_proba(X = X_test))\n",
    "\n",
    "# --- Assign column names to predictions ---\n",
    "preds_prob.columns = ['Malignant','Benign']\n",
    "preds_prob.head()\n",
    "\n",
    "# -- The class (Malignant or Benign) that has probability greater than 0.5 \"wins\" --\n",
    "# -- For example, the first row/case has 0.92 of the probability for malignance and 0.083 for benign. \n",
    "# -- So, the diagnosis would be malignant.   \n",
    "# -- What is the verdict of the second case? Third? --"
   ]
  },
  {
   "cell_type": "markdown",
   "metadata": {},
   "source": [
    "#### Comparison between predicted diagnosis and actual diagnosis"
   ]
  },
  {
   "cell_type": "code",
   "execution_count": 28,
   "metadata": {},
   "outputs": [
    {
     "data": {
      "text/html": [
       "<div>\n",
       "<style scoped>\n",
       "    .dataframe tbody tr th:only-of-type {\n",
       "        vertical-align: middle;\n",
       "    }\n",
       "\n",
       "    .dataframe tbody tr th {\n",
       "        vertical-align: top;\n",
       "    }\n",
       "\n",
       "    .dataframe thead th {\n",
       "        text-align: right;\n",
       "    }\n",
       "</style>\n",
       "<table border=\"1\" class=\"dataframe\">\n",
       "  <thead>\n",
       "    <tr style=\"text-align: right;\">\n",
       "      <th></th>\n",
       "      <th>Malignant</th>\n",
       "      <th>Benign</th>\n",
       "      <th>Prediction</th>\n",
       "      <th>Original Result</th>\n",
       "    </tr>\n",
       "  </thead>\n",
       "  <tbody>\n",
       "    <tr>\n",
       "      <th>0</th>\n",
       "      <td>0.916610</td>\n",
       "      <td>0.083390</td>\n",
       "      <td>0</td>\n",
       "      <td>0</td>\n",
       "    </tr>\n",
       "    <tr>\n",
       "      <th>1</th>\n",
       "      <td>0.467397</td>\n",
       "      <td>0.532603</td>\n",
       "      <td>1</td>\n",
       "      <td>0</td>\n",
       "    </tr>\n",
       "    <tr>\n",
       "      <th>2</th>\n",
       "      <td>0.411991</td>\n",
       "      <td>0.588009</td>\n",
       "      <td>1</td>\n",
       "      <td>1</td>\n",
       "    </tr>\n",
       "    <tr>\n",
       "      <th>3</th>\n",
       "      <td>0.931175</td>\n",
       "      <td>0.068825</td>\n",
       "      <td>0</td>\n",
       "      <td>0</td>\n",
       "    </tr>\n",
       "    <tr>\n",
       "      <th>4</th>\n",
       "      <td>0.155381</td>\n",
       "      <td>0.844619</td>\n",
       "      <td>1</td>\n",
       "      <td>0</td>\n",
       "    </tr>\n",
       "  </tbody>\n",
       "</table>\n",
       "</div>"
      ],
      "text/plain": [
       "   Malignant    Benign  Prediction  Original Result\n",
       "0   0.916610  0.083390           0                0\n",
       "1   0.467397  0.532603           1                0\n",
       "2   0.411991  0.588009           1                1\n",
       "3   0.931175  0.068825           0                0\n",
       "4   0.155381  0.844619           1                0"
      ]
     },
     "execution_count": 28,
     "metadata": {},
     "output_type": "execute_result"
    }
   ],
   "source": [
    "# --- Get the predicted class labels ---\n",
    "preds = log_regress.predict(X = X_test)\n",
    "preds_class = pd.DataFrame(preds)\n",
    "preds_class.columns = ['Prediction']\n",
    "\n",
    "# --- Actual diagnosis ---\n",
    "original_result = pd.DataFrame(y_test.values)\n",
    "original_result.columns = ['Original Result']\n",
    "\n",
    "# --- Merge the three dataframes together ---\n",
    "# -- 0: Malignant \n",
    "# -- 1: Benign\n",
    "result = pd.concat([preds_prob, preds_class, original_result], axis = 1)\n",
    "result.head()"
   ]
  },
  {
   "cell_type": "markdown",
   "metadata": {},
   "source": [
    "### Model Performance Evaluation\n",
    "#### Confusion Matrix"
   ]
  },
  {
   "cell_type": "code",
   "execution_count": 29,
   "metadata": {},
   "outputs": [
    {
     "name": "stdout",
     "output_type": "stream",
     "text": [
      "--- Confusion Matrix (predict on columns, actual on rows ---\n"
     ]
    },
    {
     "data": {
      "text/plain": [
       "<matplotlib.axes._subplots.AxesSubplot at 0x1a23aeeb38>"
      ]
     },
     "execution_count": 29,
     "metadata": {},
     "output_type": "execute_result"
    },
    {
     "data": {
      "image/png": "[encoded data removed]",
      "text/plain": [
       "<Figure size 432x288 with 2 Axes>"
      ]
     },
     "metadata": {
      "needs_background": "light"
     },
     "output_type": "display_data"
    }
   ],
   "source": [
    "# --- Print Confusion Matrix Using Panda's crosstab function ---\n",
    "\n",
    "print('--- Confusion Matrix (predict on columns, actual on rows ---')\n",
    "confusion_matrix = pd.crosstab(y_test,preds,rownames=['Actual'], colnames=['Predicted'])\n",
    "sns.heatmap(confusion_matrix, annot=True)"
   ]
  },
  {
   "cell_type": "code",
   "execution_count": 30,
   "metadata": {},
   "outputs": [
    {
     "name": "stdout",
     "output_type": "stream",
     "text": [
      "--- Confusion Matrix using matric function ---\n"
     ]
    },
    {
     "data": {
      "text/plain": [
       "Text(0.5, 15.0, 'Predicted')"
      ]
     },
     "execution_count": 30,
     "metadata": {},
     "output_type": "execute_result"
    },
    {
     "data": {
      "image/png": "[encoded data removed]",
      "text/plain": [
       "<Figure size 432x288 with 1 Axes>"
      ]
     },
     "metadata": {
      "needs_background": "light"
     },
     "output_type": "display_data"
    }
   ],
   "source": [
    "# --- Print Confusion Matrix using confusion_matrix() ---\n",
    "\n",
    "print('--- Confusion Matrix using matric function ---')\n",
    "\n",
    "from sklearn import metrics\n",
    "#print(metrics.confusion_matrix(y_true = test_labels, y_pred = preds))\n",
    "sns.heatmap(metrics.confusion_matrix(y_true = y_test, y_pred = preds),annot=True,cbar=False)\n",
    "plt.ylabel('Actual')\n",
    "plt.xlabel('Predicted')"
   ]
  },
  {
   "cell_type": "code",
   "execution_count": 101,
   "metadata": {},
   "outputs": [
    {
     "name": "stdout",
     "output_type": "stream",
     "text": [
      "--- Confusion Matrix (predict on rows, actual on columns ---\n"
     ]
    },
    {
     "data": {
      "image/png": "[encoded data removed]",
      "text/plain": [
       "<Figure size 432x288 with 2 Axes>"
      ]
     },
     "metadata": {
      "needs_background": "light"
     },
     "output_type": "display_data"
    }
   ],
   "source": [
    "# --- Print Confusion Matrix Using Panda's crosstab function ---\n",
    "# -- Some books (our textbook) may put Actual Results vertically -- \n",
    "# -- Uncomment the code below to run it --\n",
    "# -----------------------------------------------------\n",
    "\n",
    "print('--- Confusion Matrix (predict on rows, actual on columns ---')\n",
    "confusion_matrix = pd.crosstab(preds, y_test,rownames=['Predicted'], colnames=['Actual'])\n",
    "sns.heatmap(confusion_matrix, annot=True);"
   ]
  },
  {
   "cell_type": "markdown",
   "metadata": {},
   "source": [
    "#### Accuracy, Recall, Precision, and Other metrics"
   ]
  },
  {
   "cell_type": "code",
   "execution_count": 93,
   "metadata": {},
   "outputs": [
    {
     "name": "stdout",
     "output_type": "stream",
     "text": [
      "--- Accuracy ---\n",
      "0.9020979020979021\n"
     ]
    }
   ],
   "source": [
    "# --- Accuracy: num of correct predictions divided by the total of predictions\n",
    "\n",
    "print('--- Accuracy ---')\n",
    "print(log_regress.score(X = X_test, y = y_test))"
   ]
  },
  {
   "cell_type": "code",
   "execution_count": 94,
   "metadata": {},
   "outputs": [
    {
     "name": "stdout",
     "output_type": "stream",
     "text": [
      "--- Metrices ---\n",
      "              precision    recall  f1-score   support\n",
      "\n",
      "           0       0.91      0.81      0.86        53\n",
      "           1       0.90      0.96      0.92        90\n",
      "\n",
      "   micro avg       0.90      0.90      0.90       143\n",
      "   macro avg       0.91      0.88      0.89       143\n",
      "weighted avg       0.90      0.90      0.90       143\n",
      "\n"
     ]
    }
   ],
   "source": [
    "# View summary of common classification metrics\n",
    "print('--- Metrices ---')\n",
    "print(metrics.classification_report(y_true = y_test, y_pred = preds))"
   ]
  },
  {
   "cell_type": "code",
   "execution_count": 102,
   "metadata": {},
   "outputs": [
    {
     "name": "stdout",
     "output_type": "stream",
     "text": [
      "0.924731182795699\n"
     ]
    }
   ],
   "source": [
    "print(metrics.f1_score(y_test,preds))"
   ]
  },
  {
   "cell_type": "markdown",
   "metadata": {},
   "source": [
    "#### Receiver Operating Characteristic (ROC) Curve\n",
    "**Note:** \n",
    "* The ROC curve is created by plotting the TPR against the FPR at various thrshold settings. \n",
    "* Threshold of 0.5: all of those predicted probabilities less than or equal to 0.5 belong to one class, while those greater than 0.5 belong to another class."
   ]
  },
  {
   "cell_type": "code",
   "execution_count": 95,
   "metadata": {},
   "outputs": [
    {
     "name": "stdout",
     "output_type": "stream",
     "text": [
      "[0.         0.         0.         0.01886792 0.01886792 0.03773585\n",
      " 0.03773585 0.05660377 0.05660377 0.0754717  0.0754717  0.09433962\n",
      " 0.09433962 0.11320755 0.11320755 0.1509434  0.1509434  0.16981132\n",
      " 0.16981132 0.18867925 0.18867925 0.20754717 0.20754717 0.30188679\n",
      " 0.30188679 1.        ]\n",
      "[0.         0.01111111 0.23333333 0.23333333 0.31111111 0.31111111\n",
      " 0.72222222 0.72222222 0.74444444 0.74444444 0.8        0.8\n",
      " 0.84444444 0.84444444 0.85555556 0.85555556 0.92222222 0.92222222\n",
      " 0.94444444 0.94444444 0.95555556 0.95555556 0.97777778 0.97777778\n",
      " 1.         1.        ]\n",
      "[1.96472988 0.96472988 0.87652187 0.86765059 0.85211146 0.84461867\n",
      " 0.73385493 0.72822294 0.71333441 0.71095645 0.6846389  0.67549978\n",
      " 0.65866032 0.64889563 0.64878734 0.62611094 0.55508916 0.54970041\n",
      " 0.53541277 0.53260327 0.52523474 0.49735276 0.48854875 0.37339735\n",
      " 0.30496466 0.01294595]\n"
     ]
    }
   ],
   "source": [
    "# --- find the prediction probabilities using the test set ---\n",
    "from sklearn.metrics import roc_curve, auc\n",
    "probs = log_regress.predict_proba(X_test)\n",
    "preds = probs[:,1]\n",
    "\n",
    "# --- find the FPR, TPR and threshold ---\n",
    "fpr, tpr, threshold = roc_curve(y_test, preds)\n",
    "print(fpr)\n",
    "print(tpr)\n",
    "print(threshold)"
   ]
  },
  {
   "cell_type": "code",
   "execution_count": 96,
   "metadata": {},
   "outputs": [
    {
     "data": {
      "image/png": "[encoded data removed]",
      "text/plain": [
       "<Figure size 432x288 with 1 Axes>"
      ]
     },
     "metadata": {
      "needs_background": "light"
     },
     "output_type": "display_data"
    }
   ],
   "source": [
    "# --- Plot the ROC and Find AUC ---\n",
    "\n",
    "roc_auc = auc(fpr, tpr)\n",
    "\n",
    "plt.plot(fpr,tpr,'b',label = 'AUC = %0.2F' % roc_auc)\n",
    "plt.plot([0,1],[0,1],'r--')\n",
    "plt.xlim([0,1])\n",
    "plt.ylim([0,1])\n",
    "plt.ylabel('True Positive Rate (TPR)')\n",
    "plt.xlabel('False Positive Rate (FPR)')\n",
    "plt.title('Receiver Operating Characteristics (ROC)')\n",
    "plt.legend(loc = 'lower right')\n",
    "plt.show()"
   ]
  }
 ],
 "metadata": {
  "kernelspec": {
   "display_name": "Python 3",
   "language": "python",
   "name": "python3"
  },
  "language_info": {
   "codemirror_mode": {
    "name": "ipython",
    "version": 3
   },
   "file_extension": ".py",
   "mimetype": "text/x-python",
   "name": "python",
   "nbconvert_exporter": "python",
   "pygments_lexer": "ipython3",
   "version": "3.8.3"
  },
  "toc": {
   "base_numbering": 1,
   "nav_menu": {},
   "number_sections": true,
   "sideBar": true,
   "skip_h1_title": false,
   "title_cell": "Table of Contents",
   "title_sidebar": "Contents",
   "toc_cell": false,
   "toc_position": {
    "height": "calc(100% - 180px)",
    "left": "10px",
    "top": "150px",
    "width": "240.667px"
   },
   "toc_section_display": true,
   "toc_window_display": true
  }
 },
 "nbformat": 4,
 "nbformat_minor": 2
}
