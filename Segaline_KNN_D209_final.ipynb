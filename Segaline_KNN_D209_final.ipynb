{
 "cells": [
  {
   "cell_type": "markdown",
   "metadata": {},
   "source": [
    "# K Nearest Neighbors \n",
    "\n",
    "Using the Medical dataset"
   ]
  },
  {
   "cell_type": "code",
   "execution_count": 62,
   "metadata": {},
   "outputs": [],
   "source": [
    "#-- Importing all nessesary libraries --# \n",
    "\n",
    "import statistics\n",
    "import numpy as np\n",
    "import seaborn as sns\n",
    "from scipy import stats\n",
    "import pandas as pd\n",
    "import matplotlib.pyplot as plt\n",
    "from sklearn.neighbors import KNeighborsClassifier\n",
    "from sklearn.model_selection import train_test_split\n",
    "import numpy as np\n",
    "from sklearn.metrics import roc_curve, roc_auc_score\n",
    "import matplotlib.pyplot as plt\n",
    "from sklearn.model_selection import cross_val_score\n",
    "from sklearn.metrics import confusion_matrix\n",
    "from sklearn.metrics import classification_report\n",
    "from sklearn.metrics import roc_curve \n",
    "from sklearn.model_selection import GridSearchCV\n",
    "from sklearn.model_selection import train_test_split\n",
    "from sklearn.preprocessing import StandardScaler\n",
    "from sklearn.metrics import mean_squared_error\n",
    "from sklearn import metrics"
   ]
  },
  {
   "cell_type": "markdown",
   "metadata": {},
   "source": [
    "Population(Continous) Children (Continous) Marital_Married (Categorical) ReAdmis_Yes(Categorical) HighBlood_Yes (Categorical) Stroke_Yes (Categorical) Overweight_Yes (Categorical)\tDiabetes_Yes(Categorical) Anxiety_Yes(Categorical) Asthma_Yes(Categorical)"
   ]
  },
  {
   "cell_type": "code",
   "execution_count": 63,
   "metadata": {},
   "outputs": [],
   "source": [
    "#-- Importing the dataset --#\n",
    "med_df_raw = pd.read_csv(\"/Users/lindasegalini/Desktop/WGU/New Program/D208 Predictive Modeling/medical_clean.csv\")\n",
    "\n",
    "#-- Dropping missing values --#\n",
    "med_df_raw.dropna() \n",
    "\n",
    "\n",
    "#-- Dropping unessesary features --#\n",
    "med_df_raw = med_df_raw.drop(columns = ['Gender','Complication_risk','Initial_admin','Additional_charges','TotalCharge','Initial_days','VitD_levels','Age','CaseOrder','Allergic_rhinitis','Reflux_esophagitis','Doc_visits','Full_meals_eaten','vitD_supp','Soft_drink','Customer_id','Interaction','UID','City','State','County','Zip','Lat','Lng', 'Area','TimeZone','Job','Income','Services','Item1','Item2','Item3','Item4','Item5','Item6','Item7','Item8',                       \n",
    "                                       'Arthritis','Hyperlipidemia','BackPain'])\n",
    "\n",
    "#-- Changing categorical to binary with get_dummies() and dropping the first column. \n",
    "med_df = pd.get_dummies(med_df_raw, drop_first =True)\n",
    "\n",
    "#-- Dropping the previously combined columns to keep the number of columns down and create a tidier dataset --#\n",
    "med_clean = med_df.drop(columns = ['Marital_Never Married','Marital_Separated','Marital_Widowed'])\n"
   ]
  },
  {
   "cell_type": "code",
   "execution_count": 64,
   "metadata": {},
   "outputs": [
    {
     "data": {
      "text/plain": [
       "Int64Index([  16,   79,  146,  153,  156,  160,  163,  180,  185,  219,\n",
       "            ...\n",
       "            9788, 9792, 9798, 9799, 9813, 9833, 9845, 9851, 9854, 9924],\n",
       "           dtype='int64', length=413)"
      ]
     },
     "execution_count": 64,
     "metadata": {},
     "output_type": "execute_result"
    }
   ],
   "source": [
    "#-- Filtering the data frame to remove the values exceeding 3 standard deviations --#\n",
    "med_remove_df = med_clean[(np.abs(stats.zscore(med_df)) < 3).all(axis=1)]\n",
    "\n",
    "#-- Displaying what rows were removed --#\n",
    "med_clean.index.difference(med_remove_df.index)"
   ]
  },
  {
   "cell_type": "code",
   "execution_count": 65,
   "metadata": {},
   "outputs": [
    {
     "data": {
      "text/html": [
       "<div>\n",
       "<style scoped>\n",
       "    .dataframe tbody tr th:only-of-type {\n",
       "        vertical-align: middle;\n",
       "    }\n",
       "\n",
       "    .dataframe tbody tr th {\n",
       "        vertical-align: top;\n",
       "    }\n",
       "\n",
       "    .dataframe thead th {\n",
       "        text-align: right;\n",
       "    }\n",
       "</style>\n",
       "<table border=\"1\" class=\"dataframe\">\n",
       "  <thead>\n",
       "    <tr style=\"text-align: right;\">\n",
       "      <th></th>\n",
       "      <th>Population</th>\n",
       "      <th>Children</th>\n",
       "      <th>Marital_Married</th>\n",
       "      <th>ReAdmis_Yes</th>\n",
       "      <th>HighBlood_Yes</th>\n",
       "      <th>Stroke_Yes</th>\n",
       "      <th>Overweight_Yes</th>\n",
       "      <th>Diabetes_Yes</th>\n",
       "      <th>Anxiety_Yes</th>\n",
       "      <th>Asthma_Yes</th>\n",
       "    </tr>\n",
       "  </thead>\n",
       "  <tbody>\n",
       "    <tr>\n",
       "      <th>0</th>\n",
       "      <td>2951</td>\n",
       "      <td>1</td>\n",
       "      <td>0</td>\n",
       "      <td>0</td>\n",
       "      <td>1</td>\n",
       "      <td>0</td>\n",
       "      <td>0</td>\n",
       "      <td>1</td>\n",
       "      <td>1</td>\n",
       "      <td>1</td>\n",
       "    </tr>\n",
       "    <tr>\n",
       "      <th>1</th>\n",
       "      <td>11303</td>\n",
       "      <td>3</td>\n",
       "      <td>1</td>\n",
       "      <td>0</td>\n",
       "      <td>1</td>\n",
       "      <td>0</td>\n",
       "      <td>1</td>\n",
       "      <td>0</td>\n",
       "      <td>0</td>\n",
       "      <td>0</td>\n",
       "    </tr>\n",
       "    <tr>\n",
       "      <th>2</th>\n",
       "      <td>17125</td>\n",
       "      <td>3</td>\n",
       "      <td>0</td>\n",
       "      <td>0</td>\n",
       "      <td>1</td>\n",
       "      <td>0</td>\n",
       "      <td>1</td>\n",
       "      <td>1</td>\n",
       "      <td>0</td>\n",
       "      <td>0</td>\n",
       "    </tr>\n",
       "    <tr>\n",
       "      <th>3</th>\n",
       "      <td>2162</td>\n",
       "      <td>0</td>\n",
       "      <td>1</td>\n",
       "      <td>0</td>\n",
       "      <td>0</td>\n",
       "      <td>1</td>\n",
       "      <td>0</td>\n",
       "      <td>0</td>\n",
       "      <td>0</td>\n",
       "      <td>1</td>\n",
       "    </tr>\n",
       "    <tr>\n",
       "      <th>4</th>\n",
       "      <td>5287</td>\n",
       "      <td>1</td>\n",
       "      <td>0</td>\n",
       "      <td>0</td>\n",
       "      <td>0</td>\n",
       "      <td>0</td>\n",
       "      <td>0</td>\n",
       "      <td>0</td>\n",
       "      <td>0</td>\n",
       "      <td>0</td>\n",
       "    </tr>\n",
       "  </tbody>\n",
       "</table>\n",
       "</div>"
      ],
      "text/plain": [
       "   Population  Children  Marital_Married  ReAdmis_Yes  HighBlood_Yes  \\\n",
       "0        2951         1                0            0              1   \n",
       "1       11303         3                1            0              1   \n",
       "2       17125         3                0            0              1   \n",
       "3        2162         0                1            0              0   \n",
       "4        5287         1                0            0              0   \n",
       "\n",
       "   Stroke_Yes  Overweight_Yes  Diabetes_Yes  Anxiety_Yes  Asthma_Yes  \n",
       "0           0               0             1            1           1  \n",
       "1           0               1             0            0           0  \n",
       "2           0               1             1            0           0  \n",
       "3           1               0             0            0           1  \n",
       "4           0               0             0            0           0  "
      ]
     },
     "execution_count": 65,
     "metadata": {},
     "output_type": "execute_result"
    }
   ],
   "source": [
    "#-- Inspecting the cleaned data set --#\n",
    "med_clean.head()"
   ]
  },
  {
   "cell_type": "code",
   "execution_count": 66,
   "metadata": {},
   "outputs": [],
   "source": [
    "#-- Saving the dataset --#\n",
    "med_clean.to_csv('/Users/lindasegalini/Desktop/WGU/New Program/D209 Data Mining/KNN/Submissions/KNN.csv')\n"
   ]
  },
  {
   "cell_type": "code",
   "execution_count": 67,
   "metadata": {},
   "outputs": [
    {
     "data": {
      "text/plain": [
       "0.6303333333333333"
      ]
     },
     "execution_count": 67,
     "metadata": {},
     "output_type": "execute_result"
    }
   ],
   "source": [
    "#-- Split the data into crossvalidation and holdout sets --#\n",
    "\n",
    "#Split the data into X & y\n",
    "\n",
    "X = med_clean.drop('ReAdmis_Yes', axis = 1).values\n",
    "y = med_clean['ReAdmis_Yes']\n",
    "\n",
    "y = y.astype(int)\n",
    "\n",
    "\n",
    "X_train, X_test, y_train, y_test = train_test_split(X, y, test_size = 0.3, random_state=42, stratify = y)\n",
    "\n",
    "#-- Initailizing KNN Classifier --#\n",
    "\n",
    "knn = KNeighborsClassifier(n_neighbors = 48)\n",
    "knn.fit(X_train, y_train)\n",
    "y_pred = knn.predict(X_test)\n",
    "\n",
    "y_pred\n",
    "\n",
    "#-- The initial score of the model --#\n",
    "knn.score(X_test,y_test)"
   ]
  },
  {
   "cell_type": "code",
   "execution_count": 68,
   "metadata": {},
   "outputs": [
    {
     "name": "stdout",
     "output_type": "stream",
     "text": [
      "Accuracy: 0.6396666666666667\n",
      "              precision    recall  f1-score   support\n",
      "\n",
      "           0       0.63      0.99      0.77      1899\n",
      "           1       0.40      0.02      0.03      1101\n",
      "\n",
      "    accuracy                           0.63      3000\n",
      "   macro avg       0.52      0.50      0.40      3000\n",
      "weighted avg       0.55      0.63      0.50      3000\n",
      "\n",
      "Tuned Model Parameters: {'n_neighbors': 48}\n"
     ]
    }
   ],
   "source": [
    "\n",
    "#-- 'n_neighbors':is the hyperparameter name --#\n",
    "#-- The parameters the grid will cover --#\n",
    "\n",
    "knn = KNeighborsClassifier()\n",
    "\n",
    "\n",
    "param_grid = {'n_neighbors': np.arange(1, 50)} #-- if we specify more parameters, all will b tried--#\n",
    "\n",
    "#-- grid variable--#\n",
    "knn_cv = GridSearchCV(knn, param_grid, cv=10)\n",
    "\n",
    "knn_cv.fit(X,y) #-- Finds all the parameters --#\n",
    "\n",
    "#--to retrieve the hyperparameters that perform the best along with the mean cross-validation \n",
    "#-- score over that fold--#\n",
    "\n",
    "knn_cv.best_params_ \n",
    "\n",
    "#-- Compute and print metrics --#\n",
    "print(\"Accuracy: {}\".format(knn_cv.score(X_test, y_test)))\n",
    "print(classification_report(y_test, y_pred))\n",
    "print(\"Tuned Model Parameters: {}\".format(knn_cv.best_params_))\n"
   ]
  },
  {
   "cell_type": "code",
   "execution_count": 69,
   "metadata": {},
   "outputs": [
    {
     "name": "stdout",
     "output_type": "stream",
     "text": [
      "\n",
      " KNN \n",
      "Test confusion_matrix\n",
      "KNN Scores:  \n",
      "The True Positive Rate is: [0.98683518 0.01544051]\n",
      "The Precision is: [0.63353617 0.4047619 ]\n",
      "The False positive rate is: [0.98455949 0.01316482]\n",
      "The False Negative Rate is:  [0.01316482 0.98455949]\n",
      "\n",
      "The average TPR is: 0.5011378425185778\n",
      "The average Precision is: 0.5191490389259152\n",
      "The average False positive rate is: 0.49886215748142215\n",
      "The average False Negative Rate is: 0.49886215748142215\n"
     ]
    },
    {
     "data": {
      "image/png": "[encoded data removed]",
      "text/plain": [
       "<Figure size 432x288 with 2 Axes>"
      ]
     },
     "metadata": {
      "needs_background": "light"
     },
     "output_type": "display_data"
    }
   ],
   "source": [
    "#-- Generating the confusion matrix --#\n",
    "from sklearn.metrics import confusion_matrix\n",
    "\n",
    "y_true = y_test # True values\n",
    "cf_matrix = confusion_matrix(y_true, y_pred)\n",
    "print(\"\\n KNN \\nTest confusion_matrix\")\n",
    "sns.heatmap(cf_matrix, annot=True, cmap='Blues')\n",
    "plt.xlabel('Predicted', fontsize=12)\n",
    "plt.ylabel('True', fontsize=12)\n",
    "\n",
    "#-- Calculating False Positives (FP), False Negatives (FN), True Positives (TP) & True Negatives (TN)\n",
    "\n",
    "FP = cf_matrix.sum(axis=0) - np.diag(cf_matrix)\n",
    "FN = cf_matrix.sum(axis=1) - np.diag(cf_matrix)\n",
    "TP = np.diag(cf_matrix)\n",
    "TN = cf_matrix.sum() - (FP + FN + TP)\n",
    "\n",
    "print('KNN Scores:  ')\n",
    "#-- Sensitivity, hit rate, recall, or true positive rate --#\n",
    "TPR = TP / (TP + FN)\n",
    "print(\"The True Positive Rate is:\", TPR)\n",
    "\n",
    "#-- Precision or positive predictive value --#\n",
    "PPV = TP / (TP + FP)\n",
    "print(\"The Precision is:\", PPV)\n",
    "\n",
    "#-- False positive rate or False alarm rate --#\n",
    "FPR = FP / (FP + TN)\n",
    "print(\"The False positive rate is:\", FPR)\n",
    "\n",
    "\n",
    "#-- False negative rate or Miss Rate --#\n",
    "FNR = FN / (FN + TP)\n",
    "print(\"The False Negative Rate is: \", FNR)\n",
    "\n",
    "#-- Total averages --#\n",
    "print(\"\")\n",
    "print(\"The average TPR is:\", TPR.sum()/2)\n",
    "print(\"The average Precision is:\", PPV.sum()/2)\n",
    "print(\"The average False positive rate is:\", FPR.sum()/2)\n",
    "print(\"The average False Negative Rate is:\", FNR.sum()/2)\n"
   ]
  },
  {
   "cell_type": "code",
   "execution_count": 70,
   "metadata": {},
   "outputs": [
    {
     "name": "stdout",
     "output_type": "stream",
     "text": [
      "AUC score:  [0.49938935 0.52763142 0.50011151 0.53248459 0.47951691 0.50601143]\n"
     ]
    }
   ],
   "source": [
    "from sklearn.model_selection import cross_val_score\n",
    "\n",
    "#-- Generating the AUC scores for six different strate--#  \n",
    "\n",
    "cv_scores = cross_val_score(knn_cv, X, y,cv=6,\n",
    "                           scoring = 'roc_auc')\n",
    "\n",
    "print('AUC score: ', cv_scores)"
   ]
  },
  {
   "cell_type": "code",
   "execution_count": 71,
   "metadata": {},
   "outputs": [
    {
     "data": {
      "image/png": "[encoded data removed]",
      "text/plain": [
       "<Figure size 432x288 with 1 Axes>"
      ]
     },
     "metadata": {
      "needs_background": "light"
     },
     "output_type": "display_data"
    }
   ],
   "source": [
    "#-- Plotting the AUC --#\n",
    "\n",
    "fpr, tpr, _ = metrics.roc_curve(y_true,  y_pred)\n",
    "auc = metrics.roc_auc_score(y_test, y_pred)\n",
    "\n",
    "#create ROC curve\n",
    "plt.plot(fpr,tpr,label=\"AUC=\"+str(auc))\n",
    "plt.ylabel('True Positive Rate')\n",
    "plt.xlabel('False Positive Rate')\n",
    "plt.legend(loc=4)\n",
    "plt.show()"
   ]
  },
  {
   "cell_type": "code",
   "execution_count": 72,
   "metadata": {},
   "outputs": [],
   "source": [
    "#-- Saving a copy of the training and testing datasets --#\n",
    "X_train =pd.DataFrame(X_train)\n",
    "X_test = pd.DataFrame(X_test)\n",
    "\n",
    "y_train = pd.DataFrame(y_train)\n",
    "\n",
    "y_test = pd.DataFrame(y_test)\n",
    "\n",
    "X_train.to_csv('/Users/lindasegalini/Desktop/WGU/New Program/D209 Data Mining/KNN/Submissions/KNN.csv')\n",
    "\n",
    "X_test.to_csv('/Users/lindasegalini/Desktop/WGU/New Program/D209 Data Mining/KNN/Submissions/KNN.csv')\n",
    "\n",
    "y_train.to_csv('/Users/lindasegalini/Desktop/WGU/New Program/D209 Data Mining/KNN/Submissions/KNN.csv')\n",
    "\n",
    "y_test.to_csv('/Users/lindasegalini/Desktop/WGU/New Program/D209 Data Mining/KNN/Submissions/KNN.csv')\n"
   ]
  },
  {
   "cell_type": "code",
   "execution_count": null,
   "metadata": {},
   "outputs": [],
   "source": []
  }
 ],
 "metadata": {
  "kernelspec": {
   "display_name": "Python 3",
   "language": "python",
   "name": "python3"
  },
  "language_info": {
   "codemirror_mode": {
    "name": "ipython",
    "version": 3
   },
   "file_extension": ".py",
   "mimetype": "text/x-python",
   "name": "python",
   "nbconvert_exporter": "python",
   "pygments_lexer": "ipython3",
   "version": "3.8.3"
  }
 },
 "nbformat": 4,
 "nbformat_minor": 4
}
